{
 "cells": [
  {
   "cell_type": "code",
   "execution_count": 280,
   "id": "caba1e30",
   "metadata": {},
   "outputs": [],
   "source": [
    "# importar bibliotecas para leitura dos dados e criação de gráficos\n",
    "\n",
    "import os\n",
    "import pandas as pd\n",
    "from matplotlib import pyplot as plt\n",
    "import numpy as np\n",
    "import seaborn as sns\n",
    "\n",
    "# configurando pandas para mostrar todas as linhas e colunas\n",
    "pd.set_option('display.max_rows',None)\n",
    "pd.set_option('display.max_columns',None)\n",
    "\n",
    "# configurando pandas para não mostrar notação científica para números\n",
    "pd.set_option('display.float_format',lambda x: '%.2f' % x)"
   ]
  },
  {
   "cell_type": "code",
   "execution_count": 281,
   "id": "e19c1baf",
   "metadata": {},
   "outputs": [
    {
     "data": {
      "text/html": [
       "<div>\n",
       "<style scoped>\n",
       "    .dataframe tbody tr th:only-of-type {\n",
       "        vertical-align: middle;\n",
       "    }\n",
       "\n",
       "    .dataframe tbody tr th {\n",
       "        vertical-align: top;\n",
       "    }\n",
       "\n",
       "    .dataframe thead th {\n",
       "        text-align: right;\n",
       "    }\n",
       "</style>\n",
       "<table border=\"1\" class=\"dataframe\">\n",
       "  <thead>\n",
       "    <tr style=\"text-align: right;\">\n",
       "      <th></th>\n",
       "      <th>age</th>\n",
       "      <th>sex</th>\n",
       "      <th>bmi</th>\n",
       "      <th>children</th>\n",
       "      <th>smoker</th>\n",
       "      <th>region</th>\n",
       "      <th>charges</th>\n",
       "    </tr>\n",
       "  </thead>\n",
       "  <tbody>\n",
       "    <tr>\n",
       "      <th>0</th>\n",
       "      <td>19</td>\n",
       "      <td>female</td>\n",
       "      <td>27.90</td>\n",
       "      <td>0</td>\n",
       "      <td>yes</td>\n",
       "      <td>southwest</td>\n",
       "      <td>16884.92</td>\n",
       "    </tr>\n",
       "    <tr>\n",
       "      <th>1</th>\n",
       "      <td>18</td>\n",
       "      <td>male</td>\n",
       "      <td>33.77</td>\n",
       "      <td>1</td>\n",
       "      <td>no</td>\n",
       "      <td>southeast</td>\n",
       "      <td>1725.55</td>\n",
       "    </tr>\n",
       "    <tr>\n",
       "      <th>2</th>\n",
       "      <td>28</td>\n",
       "      <td>male</td>\n",
       "      <td>33.00</td>\n",
       "      <td>3</td>\n",
       "      <td>no</td>\n",
       "      <td>southeast</td>\n",
       "      <td>4449.46</td>\n",
       "    </tr>\n",
       "    <tr>\n",
       "      <th>3</th>\n",
       "      <td>33</td>\n",
       "      <td>male</td>\n",
       "      <td>22.70</td>\n",
       "      <td>0</td>\n",
       "      <td>no</td>\n",
       "      <td>northwest</td>\n",
       "      <td>21984.47</td>\n",
       "    </tr>\n",
       "    <tr>\n",
       "      <th>4</th>\n",
       "      <td>32</td>\n",
       "      <td>male</td>\n",
       "      <td>28.88</td>\n",
       "      <td>0</td>\n",
       "      <td>no</td>\n",
       "      <td>northwest</td>\n",
       "      <td>3866.86</td>\n",
       "    </tr>\n",
       "  </tbody>\n",
       "</table>\n",
       "</div>"
      ],
      "text/plain": [
       "   age     sex   bmi  children smoker     region  charges\n",
       "0   19  female 27.90         0    yes  southwest 16884.92\n",
       "1   18    male 33.77         1     no  southeast  1725.55\n",
       "2   28    male 33.00         3     no  southeast  4449.46\n",
       "3   33    male 22.70         0     no  northwest 21984.47\n",
       "4   32    male 28.88         0     no  northwest  3866.86"
      ]
     },
     "execution_count": 281,
     "metadata": {},
     "output_type": "execute_result"
    }
   ],
   "source": [
    "# Leitura dos dados do seguro\n",
    "df_seguro = pd.read_csv('./data/insurance.csv')\n",
    "df_seguro.head()"
   ]
  },
  {
   "cell_type": "code",
   "execution_count": 282,
   "id": "8f317116",
   "metadata": {},
   "outputs": [
    {
     "data": {
      "text/plain": [
       "(1338, 7)"
      ]
     },
     "execution_count": 282,
     "metadata": {},
     "output_type": "execute_result"
    }
   ],
   "source": [
    "# Verificando a quantidade de linhas e colunas\n",
    "df_seguro.shape"
   ]
  },
  {
   "cell_type": "code",
   "execution_count": 283,
   "id": "57fbb76c",
   "metadata": {},
   "outputs": [
    {
     "data": {
      "text/plain": [
       "age           int64\n",
       "sex          object\n",
       "bmi         float64\n",
       "children      int64\n",
       "smoker       object\n",
       "region       object\n",
       "charges     float64\n",
       "dtype: object"
      ]
     },
     "execution_count": 283,
     "metadata": {},
     "output_type": "execute_result"
    }
   ],
   "source": [
    "#verificando os tipos \n",
    "df_seguro.dtypes"
   ]
  },
  {
   "cell_type": "code",
   "execution_count": 284,
   "id": "54ae3ab3",
   "metadata": {},
   "outputs": [
    {
     "name": "stdout",
     "output_type": "stream",
     "text": [
      "<class 'pandas.core.frame.DataFrame'>\n",
      "RangeIndex: 1338 entries, 0 to 1337\n",
      "Data columns (total 7 columns):\n",
      " #   Column    Non-Null Count  Dtype  \n",
      "---  ------    --------------  -----  \n",
      " 0   age       1338 non-null   int64  \n",
      " 1   sex       1338 non-null   object \n",
      " 2   bmi       1338 non-null   float64\n",
      " 3   children  1338 non-null   int64  \n",
      " 4   smoker    1338 non-null   object \n",
      " 5   region    1338 non-null   object \n",
      " 6   charges   1338 non-null   float64\n",
      "dtypes: float64(2), int64(2), object(3)\n",
      "memory usage: 73.3+ KB\n"
     ]
    }
   ],
   "source": [
    "#Verificando as informações contidas\n",
    "df_seguro.info()"
   ]
  },
  {
   "cell_type": "markdown",
   "id": "fa80f351",
   "metadata": {},
   "source": [
    "## Estatística Descritiva\n",
    "\n",
    "Verificar as medidas estatísticas, como tendência central, dispersão, separatrizes, distribuições. Para a predição do target a ser cobrado pelo plano de saúde, é necessário conhecer os dados disponíveis, como distribuição da idade, indíce de massa corporal (bmi), entre outros. "
   ]
  },
  {
   "cell_type": "code",
   "execution_count": 285,
   "id": "cfb7c9df",
   "metadata": {},
   "outputs": [
    {
     "data": {
      "text/html": [
       "<div>\n",
       "<style scoped>\n",
       "    .dataframe tbody tr th:only-of-type {\n",
       "        vertical-align: middle;\n",
       "    }\n",
       "\n",
       "    .dataframe tbody tr th {\n",
       "        vertical-align: top;\n",
       "    }\n",
       "\n",
       "    .dataframe thead th {\n",
       "        text-align: right;\n",
       "    }\n",
       "</style>\n",
       "<table border=\"1\" class=\"dataframe\">\n",
       "  <thead>\n",
       "    <tr style=\"text-align: right;\">\n",
       "      <th></th>\n",
       "      <th>age</th>\n",
       "      <th>bmi</th>\n",
       "      <th>children</th>\n",
       "      <th>charges</th>\n",
       "    </tr>\n",
       "  </thead>\n",
       "  <tbody>\n",
       "    <tr>\n",
       "      <th>count</th>\n",
       "      <td>1338.00</td>\n",
       "      <td>1338.00</td>\n",
       "      <td>1338.00</td>\n",
       "      <td>1338.00</td>\n",
       "    </tr>\n",
       "    <tr>\n",
       "      <th>mean</th>\n",
       "      <td>39.21</td>\n",
       "      <td>30.66</td>\n",
       "      <td>1.09</td>\n",
       "      <td>13270.42</td>\n",
       "    </tr>\n",
       "    <tr>\n",
       "      <th>std</th>\n",
       "      <td>14.05</td>\n",
       "      <td>6.10</td>\n",
       "      <td>1.21</td>\n",
       "      <td>12110.01</td>\n",
       "    </tr>\n",
       "    <tr>\n",
       "      <th>min</th>\n",
       "      <td>18.00</td>\n",
       "      <td>15.96</td>\n",
       "      <td>0.00</td>\n",
       "      <td>1121.87</td>\n",
       "    </tr>\n",
       "    <tr>\n",
       "      <th>25%</th>\n",
       "      <td>27.00</td>\n",
       "      <td>26.30</td>\n",
       "      <td>0.00</td>\n",
       "      <td>4740.29</td>\n",
       "    </tr>\n",
       "    <tr>\n",
       "      <th>50%</th>\n",
       "      <td>39.00</td>\n",
       "      <td>30.40</td>\n",
       "      <td>1.00</td>\n",
       "      <td>9382.03</td>\n",
       "    </tr>\n",
       "    <tr>\n",
       "      <th>75%</th>\n",
       "      <td>51.00</td>\n",
       "      <td>34.69</td>\n",
       "      <td>2.00</td>\n",
       "      <td>16639.91</td>\n",
       "    </tr>\n",
       "    <tr>\n",
       "      <th>max</th>\n",
       "      <td>64.00</td>\n",
       "      <td>53.13</td>\n",
       "      <td>5.00</td>\n",
       "      <td>63770.43</td>\n",
       "    </tr>\n",
       "  </tbody>\n",
       "</table>\n",
       "</div>"
      ],
      "text/plain": [
       "          age     bmi  children  charges\n",
       "count 1338.00 1338.00   1338.00  1338.00\n",
       "mean    39.21   30.66      1.09 13270.42\n",
       "std     14.05    6.10      1.21 12110.01\n",
       "min     18.00   15.96      0.00  1121.87\n",
       "25%     27.00   26.30      0.00  4740.29\n",
       "50%     39.00   30.40      1.00  9382.03\n",
       "75%     51.00   34.69      2.00 16639.91\n",
       "max     64.00   53.13      5.00 63770.43"
      ]
     },
     "execution_count": 285,
     "metadata": {},
     "output_type": "execute_result"
    }
   ],
   "source": [
    "df_seguro.describe()"
   ]
  },
  {
   "cell_type": "code",
   "execution_count": 286,
   "id": "5dd658b7",
   "metadata": {},
   "outputs": [
    {
     "data": {
      "text/plain": [
       "<Axes: xlabel='age', ylabel='Count'>"
      ]
     },
     "execution_count": 286,
     "metadata": {},
     "output_type": "execute_result"
    },
    {
     "data": {
      "image/png": "[encoded data removed]",
      "text/plain": [
       "<Figure size 640x480 with 1 Axes>"
      ]
     },
     "metadata": {},
     "output_type": "display_data"
    }
   ],
   "source": [
    "#Distribuição das idades\n",
    "sns.set_style(\"white\")\n",
    "plt.tight_layout()\n",
    "\n",
    "sns.histplot(data=df_seguro,x='age')"
   ]
  },
  {
   "cell_type": "code",
   "execution_count": 287,
   "id": "cc5a77d9",
   "metadata": {},
   "outputs": [
    {
     "data": {
      "text/plain": [
       "<Axes: xlabel='bmi', ylabel='Count'>"
      ]
     },
     "execution_count": 287,
     "metadata": {},
     "output_type": "execute_result"
    },
    {
     "data": {
      "image/png": "[encoded data removed]",
      "text/plain": [
       "<Figure size 640x480 with 1 Axes>"
      ]
     },
     "metadata": {},
     "output_type": "display_data"
    }
   ],
   "source": [
    "#Distribuição do índice de massa corporal\n",
    "sns.set_style(\"white\")\n",
    "plt.tight_layout()\n",
    "\n",
    "sns.histplot(data=df_seguro,x='bmi')"
   ]
  },
  {
   "cell_type": "code",
   "execution_count": 288,
   "id": "09fa0fed",
   "metadata": {},
   "outputs": [
    {
     "data": {
      "text/plain": [
       "<Axes: xlabel='children', ylabel='count'>"
      ]
     },
     "execution_count": 288,
     "metadata": {},
     "output_type": "execute_result"
    },
    {
     "data": {
      "image/png": "[encoded data removed]",
      "text/plain": [
       "<Figure size 640x480 with 1 Axes>"
      ]
     },
     "metadata": {},
     "output_type": "display_data"
    }
   ],
   "source": [
    "#Quantidade de crianças\n",
    "sns.set_style(\"white\")\n",
    "plt.tight_layout()\n",
    "\n",
    "sns.countplot(data=df_seguro,x='children')"
   ]
  },
  {
   "cell_type": "code",
   "execution_count": 289,
   "id": "bc194592",
   "metadata": {},
   "outputs": [
    {
     "data": {
      "text/plain": [
       "<Axes: xlabel='charges', ylabel='Count'>"
      ]
     },
     "execution_count": 289,
     "metadata": {},
     "output_type": "execute_result"
    },
    {
     "data": {
      "image/png": "[encoded data removed]",
      "text/plain": [
       "<Figure size 640x480 with 1 Axes>"
      ]
     },
     "metadata": {},
     "output_type": "display_data"
    }
   ],
   "source": [
    "# Verificando a distribuição da variável target \"preço do seguro\"\n",
    "\n",
    "sns.histplot(data=df_seguro['charges'])"
   ]
  },
  {
   "cell_type": "markdown",
   "id": "0154141a",
   "metadata": {},
   "source": [
    "## Relação entre as features e a variável target\n",
    "\n",
    "Análise da relação entre as variáveis preditoras com a target. Analisar as dispersões das variáveis preditoras com o valor do seguro. "
   ]
  },
  {
   "cell_type": "code",
   "execution_count": 290,
   "id": "ced6e877",
   "metadata": {
    "scrolled": true
   },
   "outputs": [
    {
     "data": {
      "text/plain": [
       "<seaborn.axisgrid.PairGrid at 0x21218a0ed00>"
      ]
     },
     "execution_count": 290,
     "metadata": {},
     "output_type": "execute_result"
    },
    {
     "data": {
      "image/png": "[encoded data removed]",
      "text/plain": [
       "<Figure size 1000x1000 with 20 Axes>"
      ]
     },
     "metadata": {},
     "output_type": "display_data"
    }
   ],
   "source": [
    "sns.pairplot(data=df_seguro)\n",
    "\n"
   ]
  },
  {
   "cell_type": "markdown",
   "id": "28fba284",
   "metadata": {},
   "source": [
    "Verifica-se a correlação positiva entre idade e o valor cobrado pelo plano de saúde (age x charges). Variável deverá ter uma alta importância no modelo preditivo."
   ]
  },
  {
   "cell_type": "markdown",
   "id": "5fc34a7d",
   "metadata": {},
   "source": [
    "## Codificação de Variáveis Categóricas\n",
    "\n",
    "Como os modelos de machine learning não conseguem destinguir categorias em sua maioria, iremos codificar as variáveis de sexo, fumante e localização."
   ]
  },
  {
   "cell_type": "code",
   "execution_count": 291,
   "id": "8726f05f",
   "metadata": {},
   "outputs": [
    {
     "data": {
      "text/html": [
       "<div>\n",
       "<style scoped>\n",
       "    .dataframe tbody tr th:only-of-type {\n",
       "        vertical-align: middle;\n",
       "    }\n",
       "\n",
       "    .dataframe tbody tr th {\n",
       "        vertical-align: top;\n",
       "    }\n",
       "\n",
       "    .dataframe thead th {\n",
       "        text-align: right;\n",
       "    }\n",
       "</style>\n",
       "<table border=\"1\" class=\"dataframe\">\n",
       "  <thead>\n",
       "    <tr style=\"text-align: right;\">\n",
       "      <th></th>\n",
       "      <th>age</th>\n",
       "      <th>sex</th>\n",
       "      <th>bmi</th>\n",
       "      <th>children</th>\n",
       "      <th>smoker</th>\n",
       "      <th>region</th>\n",
       "      <th>charges</th>\n",
       "      <th>female</th>\n",
       "    </tr>\n",
       "  </thead>\n",
       "  <tbody>\n",
       "    <tr>\n",
       "      <th>0</th>\n",
       "      <td>19</td>\n",
       "      <td>female</td>\n",
       "      <td>27.90</td>\n",
       "      <td>0</td>\n",
       "      <td>1</td>\n",
       "      <td>southwest</td>\n",
       "      <td>16884.92</td>\n",
       "      <td>1</td>\n",
       "    </tr>\n",
       "    <tr>\n",
       "      <th>1</th>\n",
       "      <td>18</td>\n",
       "      <td>male</td>\n",
       "      <td>33.77</td>\n",
       "      <td>1</td>\n",
       "      <td>0</td>\n",
       "      <td>southeast</td>\n",
       "      <td>1725.55</td>\n",
       "      <td>0</td>\n",
       "    </tr>\n",
       "    <tr>\n",
       "      <th>2</th>\n",
       "      <td>28</td>\n",
       "      <td>male</td>\n",
       "      <td>33.00</td>\n",
       "      <td>3</td>\n",
       "      <td>0</td>\n",
       "      <td>southeast</td>\n",
       "      <td>4449.46</td>\n",
       "      <td>0</td>\n",
       "    </tr>\n",
       "    <tr>\n",
       "      <th>3</th>\n",
       "      <td>33</td>\n",
       "      <td>male</td>\n",
       "      <td>22.70</td>\n",
       "      <td>0</td>\n",
       "      <td>0</td>\n",
       "      <td>northwest</td>\n",
       "      <td>21984.47</td>\n",
       "      <td>0</td>\n",
       "    </tr>\n",
       "    <tr>\n",
       "      <th>4</th>\n",
       "      <td>32</td>\n",
       "      <td>male</td>\n",
       "      <td>28.88</td>\n",
       "      <td>0</td>\n",
       "      <td>0</td>\n",
       "      <td>northwest</td>\n",
       "      <td>3866.86</td>\n",
       "      <td>0</td>\n",
       "    </tr>\n",
       "  </tbody>\n",
       "</table>\n",
       "</div>"
      ],
      "text/plain": [
       "   age     sex   bmi  children  smoker     region  charges  female\n",
       "0   19  female 27.90         0       1  southwest 16884.92       1\n",
       "1   18    male 33.77         1       0  southeast  1725.55       0\n",
       "2   28    male 33.00         3       0  southeast  4449.46       0\n",
       "3   33    male 22.70         0       0  northwest 21984.47       0\n",
       "4   32    male 28.88         0       0  northwest  3866.86       0"
      ]
     },
     "execution_count": 291,
     "metadata": {},
     "output_type": "execute_result"
    }
   ],
   "source": [
    "# Por termos variáveis nominais, utilizaremos o OneHotEncoder\n",
    "# pode-se utilizar o get_dummies do pandas ou o OneHotEncoder do scikit Learn\n",
    "# para variáveis com somente duas classes (sex e smoker), podemos fazer um mapeamento conforme abaixo:\n",
    "\n",
    "df_seguro['female'] = df_seguro['sex'].map({'female':1,'male':0})\n",
    "df_seguro['smoker'] = df_seguro['smoker'].map({'yes':1,'no':0})\n",
    "\n",
    "df_seguro.head()"
   ]
  },
  {
   "cell_type": "code",
   "execution_count": 292,
   "id": "e044000e",
   "metadata": {},
   "outputs": [
    {
     "data": {
      "text/html": [
       "<div>\n",
       "<style scoped>\n",
       "    .dataframe tbody tr th:only-of-type {\n",
       "        vertical-align: middle;\n",
       "    }\n",
       "\n",
       "    .dataframe tbody tr th {\n",
       "        vertical-align: top;\n",
       "    }\n",
       "\n",
       "    .dataframe thead th {\n",
       "        text-align: right;\n",
       "    }\n",
       "</style>\n",
       "<table border=\"1\" class=\"dataframe\">\n",
       "  <thead>\n",
       "    <tr style=\"text-align: right;\">\n",
       "      <th></th>\n",
       "      <th>age</th>\n",
       "      <th>bmi</th>\n",
       "      <th>children</th>\n",
       "      <th>smoker</th>\n",
       "      <th>region</th>\n",
       "      <th>charges</th>\n",
       "      <th>female</th>\n",
       "    </tr>\n",
       "  </thead>\n",
       "  <tbody>\n",
       "    <tr>\n",
       "      <th>0</th>\n",
       "      <td>19</td>\n",
       "      <td>27.90</td>\n",
       "      <td>0</td>\n",
       "      <td>1</td>\n",
       "      <td>southwest</td>\n",
       "      <td>16884.92</td>\n",
       "      <td>1</td>\n",
       "    </tr>\n",
       "    <tr>\n",
       "      <th>1</th>\n",
       "      <td>18</td>\n",
       "      <td>33.77</td>\n",
       "      <td>1</td>\n",
       "      <td>0</td>\n",
       "      <td>southeast</td>\n",
       "      <td>1725.55</td>\n",
       "      <td>0</td>\n",
       "    </tr>\n",
       "    <tr>\n",
       "      <th>2</th>\n",
       "      <td>28</td>\n",
       "      <td>33.00</td>\n",
       "      <td>3</td>\n",
       "      <td>0</td>\n",
       "      <td>southeast</td>\n",
       "      <td>4449.46</td>\n",
       "      <td>0</td>\n",
       "    </tr>\n",
       "    <tr>\n",
       "      <th>3</th>\n",
       "      <td>33</td>\n",
       "      <td>22.70</td>\n",
       "      <td>0</td>\n",
       "      <td>0</td>\n",
       "      <td>northwest</td>\n",
       "      <td>21984.47</td>\n",
       "      <td>0</td>\n",
       "    </tr>\n",
       "    <tr>\n",
       "      <th>4</th>\n",
       "      <td>32</td>\n",
       "      <td>28.88</td>\n",
       "      <td>0</td>\n",
       "      <td>0</td>\n",
       "      <td>northwest</td>\n",
       "      <td>3866.86</td>\n",
       "      <td>0</td>\n",
       "    </tr>\n",
       "  </tbody>\n",
       "</table>\n",
       "</div>"
      ],
      "text/plain": [
       "   age   bmi  children  smoker     region  charges  female\n",
       "0   19 27.90         0       1  southwest 16884.92       1\n",
       "1   18 33.77         1       0  southeast  1725.55       0\n",
       "2   28 33.00         3       0  southeast  4449.46       0\n",
       "3   33 22.70         0       0  northwest 21984.47       0\n",
       "4   32 28.88         0       0  northwest  3866.86       0"
      ]
     },
     "execution_count": 292,
     "metadata": {},
     "output_type": "execute_result"
    }
   ],
   "source": [
    "df_seguro = df_seguro.drop('sex',axis=1)\n",
    "df_seguro.head()"
   ]
  },
  {
   "cell_type": "code",
   "execution_count": 293,
   "id": "e1f3157c",
   "metadata": {},
   "outputs": [
    {
     "data": {
      "text/plain": [
       "array(['southwest', 'southeast', 'northwest', 'northeast'], dtype=object)"
      ]
     },
     "execution_count": 293,
     "metadata": {},
     "output_type": "execute_result"
    }
   ],
   "source": [
    "df_seguro['region'].unique()"
   ]
  },
  {
   "cell_type": "code",
   "execution_count": 294,
   "id": "0a60de25",
   "metadata": {},
   "outputs": [
    {
     "data": {
      "text/html": [
       "<div>\n",
       "<style scoped>\n",
       "    .dataframe tbody tr th:only-of-type {\n",
       "        vertical-align: middle;\n",
       "    }\n",
       "\n",
       "    .dataframe tbody tr th {\n",
       "        vertical-align: top;\n",
       "    }\n",
       "\n",
       "    .dataframe thead th {\n",
       "        text-align: right;\n",
       "    }\n",
       "</style>\n",
       "<table border=\"1\" class=\"dataframe\">\n",
       "  <thead>\n",
       "    <tr style=\"text-align: right;\">\n",
       "      <th></th>\n",
       "      <th>northwest</th>\n",
       "      <th>southeast</th>\n",
       "      <th>southwest</th>\n",
       "    </tr>\n",
       "  </thead>\n",
       "  <tbody>\n",
       "    <tr>\n",
       "      <th>0</th>\n",
       "      <td>0</td>\n",
       "      <td>0</td>\n",
       "      <td>1</td>\n",
       "    </tr>\n",
       "    <tr>\n",
       "      <th>1</th>\n",
       "      <td>0</td>\n",
       "      <td>1</td>\n",
       "      <td>0</td>\n",
       "    </tr>\n",
       "    <tr>\n",
       "      <th>2</th>\n",
       "      <td>0</td>\n",
       "      <td>1</td>\n",
       "      <td>0</td>\n",
       "    </tr>\n",
       "    <tr>\n",
       "      <th>3</th>\n",
       "      <td>1</td>\n",
       "      <td>0</td>\n",
       "      <td>0</td>\n",
       "    </tr>\n",
       "    <tr>\n",
       "      <th>4</th>\n",
       "      <td>1</td>\n",
       "      <td>0</td>\n",
       "      <td>0</td>\n",
       "    </tr>\n",
       "  </tbody>\n",
       "</table>\n",
       "</div>"
      ],
      "text/plain": [
       "   northwest  southeast  southwest\n",
       "0          0          0          1\n",
       "1          0          1          0\n",
       "2          0          1          0\n",
       "3          1          0          0\n",
       "4          1          0          0"
      ]
     },
     "execution_count": 294,
     "metadata": {},
     "output_type": "execute_result"
    }
   ],
   "source": [
    "# para as regiões vão utilizar OHE\n",
    "colunas_regiao = pd.get_dummies(df_seguro['region'], drop_first=True)\n",
    "colunas_regiao.head()"
   ]
  },
  {
   "cell_type": "code",
   "execution_count": 295,
   "id": "4782dbbd",
   "metadata": {},
   "outputs": [
    {
     "data": {
      "text/html": [
       "<div>\n",
       "<style scoped>\n",
       "    .dataframe tbody tr th:only-of-type {\n",
       "        vertical-align: middle;\n",
       "    }\n",
       "\n",
       "    .dataframe tbody tr th {\n",
       "        vertical-align: top;\n",
       "    }\n",
       "\n",
       "    .dataframe thead th {\n",
       "        text-align: right;\n",
       "    }\n",
       "</style>\n",
       "<table border=\"1\" class=\"dataframe\">\n",
       "  <thead>\n",
       "    <tr style=\"text-align: right;\">\n",
       "      <th></th>\n",
       "      <th>age</th>\n",
       "      <th>bmi</th>\n",
       "      <th>children</th>\n",
       "      <th>smoker</th>\n",
       "      <th>region</th>\n",
       "      <th>charges</th>\n",
       "      <th>female</th>\n",
       "      <th>northwest</th>\n",
       "      <th>southeast</th>\n",
       "      <th>southwest</th>\n",
       "    </tr>\n",
       "  </thead>\n",
       "  <tbody>\n",
       "    <tr>\n",
       "      <th>0</th>\n",
       "      <td>19</td>\n",
       "      <td>27.90</td>\n",
       "      <td>0</td>\n",
       "      <td>1</td>\n",
       "      <td>southwest</td>\n",
       "      <td>16884.92</td>\n",
       "      <td>1</td>\n",
       "      <td>0</td>\n",
       "      <td>0</td>\n",
       "      <td>1</td>\n",
       "    </tr>\n",
       "    <tr>\n",
       "      <th>1</th>\n",
       "      <td>18</td>\n",
       "      <td>33.77</td>\n",
       "      <td>1</td>\n",
       "      <td>0</td>\n",
       "      <td>southeast</td>\n",
       "      <td>1725.55</td>\n",
       "      <td>0</td>\n",
       "      <td>0</td>\n",
       "      <td>1</td>\n",
       "      <td>0</td>\n",
       "    </tr>\n",
       "    <tr>\n",
       "      <th>2</th>\n",
       "      <td>28</td>\n",
       "      <td>33.00</td>\n",
       "      <td>3</td>\n",
       "      <td>0</td>\n",
       "      <td>southeast</td>\n",
       "      <td>4449.46</td>\n",
       "      <td>0</td>\n",
       "      <td>0</td>\n",
       "      <td>1</td>\n",
       "      <td>0</td>\n",
       "    </tr>\n",
       "    <tr>\n",
       "      <th>3</th>\n",
       "      <td>33</td>\n",
       "      <td>22.70</td>\n",
       "      <td>0</td>\n",
       "      <td>0</td>\n",
       "      <td>northwest</td>\n",
       "      <td>21984.47</td>\n",
       "      <td>0</td>\n",
       "      <td>1</td>\n",
       "      <td>0</td>\n",
       "      <td>0</td>\n",
       "    </tr>\n",
       "    <tr>\n",
       "      <th>4</th>\n",
       "      <td>32</td>\n",
       "      <td>28.88</td>\n",
       "      <td>0</td>\n",
       "      <td>0</td>\n",
       "      <td>northwest</td>\n",
       "      <td>3866.86</td>\n",
       "      <td>0</td>\n",
       "      <td>1</td>\n",
       "      <td>0</td>\n",
       "      <td>0</td>\n",
       "    </tr>\n",
       "  </tbody>\n",
       "</table>\n",
       "</div>"
      ],
      "text/plain": [
       "   age   bmi  children  smoker     region  charges  female  northwest  \\\n",
       "0   19 27.90         0       1  southwest 16884.92       1          0   \n",
       "1   18 33.77         1       0  southeast  1725.55       0          0   \n",
       "2   28 33.00         3       0  southeast  4449.46       0          0   \n",
       "3   33 22.70         0       0  northwest 21984.47       0          1   \n",
       "4   32 28.88         0       0  northwest  3866.86       0          1   \n",
       "\n",
       "   southeast  southwest  \n",
       "0          0          1  \n",
       "1          1          0  \n",
       "2          1          0  \n",
       "3          0          0  \n",
       "4          0          0  "
      ]
     },
     "execution_count": 295,
     "metadata": {},
     "output_type": "execute_result"
    }
   ],
   "source": [
    "# concatenar as informaçoes de região com o pandas.concat (axis=1 junta colunas e axis=0 junta linhas)\n",
    "\n",
    "pd.concat([df_seguro, colunas_regiao], axis=1).head()"
   ]
  },
  {
   "cell_type": "code",
   "execution_count": 296,
   "id": "ce5c778f",
   "metadata": {},
   "outputs": [
    {
     "data": {
      "text/html": [
       "<div>\n",
       "<style scoped>\n",
       "    .dataframe tbody tr th:only-of-type {\n",
       "        vertical-align: middle;\n",
       "    }\n",
       "\n",
       "    .dataframe tbody tr th {\n",
       "        vertical-align: top;\n",
       "    }\n",
       "\n",
       "    .dataframe thead th {\n",
       "        text-align: right;\n",
       "    }\n",
       "</style>\n",
       "<table border=\"1\" class=\"dataframe\">\n",
       "  <thead>\n",
       "    <tr style=\"text-align: right;\">\n",
       "      <th></th>\n",
       "      <th>age</th>\n",
       "      <th>bmi</th>\n",
       "      <th>children</th>\n",
       "      <th>smoker</th>\n",
       "      <th>charges</th>\n",
       "      <th>female</th>\n",
       "      <th>northwest</th>\n",
       "      <th>southeast</th>\n",
       "      <th>southwest</th>\n",
       "    </tr>\n",
       "  </thead>\n",
       "  <tbody>\n",
       "    <tr>\n",
       "      <th>0</th>\n",
       "      <td>19</td>\n",
       "      <td>27.90</td>\n",
       "      <td>0</td>\n",
       "      <td>1</td>\n",
       "      <td>16884.92</td>\n",
       "      <td>1</td>\n",
       "      <td>0</td>\n",
       "      <td>0</td>\n",
       "      <td>1</td>\n",
       "    </tr>\n",
       "    <tr>\n",
       "      <th>1</th>\n",
       "      <td>18</td>\n",
       "      <td>33.77</td>\n",
       "      <td>1</td>\n",
       "      <td>0</td>\n",
       "      <td>1725.55</td>\n",
       "      <td>0</td>\n",
       "      <td>0</td>\n",
       "      <td>1</td>\n",
       "      <td>0</td>\n",
       "    </tr>\n",
       "    <tr>\n",
       "      <th>2</th>\n",
       "      <td>28</td>\n",
       "      <td>33.00</td>\n",
       "      <td>3</td>\n",
       "      <td>0</td>\n",
       "      <td>4449.46</td>\n",
       "      <td>0</td>\n",
       "      <td>0</td>\n",
       "      <td>1</td>\n",
       "      <td>0</td>\n",
       "    </tr>\n",
       "    <tr>\n",
       "      <th>3</th>\n",
       "      <td>33</td>\n",
       "      <td>22.70</td>\n",
       "      <td>0</td>\n",
       "      <td>0</td>\n",
       "      <td>21984.47</td>\n",
       "      <td>0</td>\n",
       "      <td>1</td>\n",
       "      <td>0</td>\n",
       "      <td>0</td>\n",
       "    </tr>\n",
       "    <tr>\n",
       "      <th>4</th>\n",
       "      <td>32</td>\n",
       "      <td>28.88</td>\n",
       "      <td>0</td>\n",
       "      <td>0</td>\n",
       "      <td>3866.86</td>\n",
       "      <td>0</td>\n",
       "      <td>1</td>\n",
       "      <td>0</td>\n",
       "      <td>0</td>\n",
       "    </tr>\n",
       "  </tbody>\n",
       "</table>\n",
       "</div>"
      ],
      "text/plain": [
       "   age   bmi  children  smoker  charges  female  northwest  southeast  \\\n",
       "0   19 27.90         0       1 16884.92       1          0          0   \n",
       "1   18 33.77         1       0  1725.55       0          0          1   \n",
       "2   28 33.00         3       0  4449.46       0          0          1   \n",
       "3   33 22.70         0       0 21984.47       0          1          0   \n",
       "4   32 28.88         0       0  3866.86       0          1          0   \n",
       "\n",
       "   southwest  \n",
       "0          1  \n",
       "1          0  \n",
       "2          0  \n",
       "3          0  \n",
       "4          0  "
      ]
     },
     "execution_count": 296,
     "metadata": {},
     "output_type": "execute_result"
    }
   ],
   "source": [
    "df_seguro = pd.concat([df_seguro, colunas_regiao], axis=1)\n",
    "df_seguro = df_seguro.drop('region', axis=1)\n",
    "df_seguro.head()"
   ]
  },
  {
   "cell_type": "markdown",
   "id": "f5dcb612",
   "metadata": {},
   "source": [
    "## Determinar as variáveis preditoras e variável target\n",
    "Utilizaremos a nomenclatura X e y para chamar as variáveis preditoras e target, respectivamente. "
   ]
  },
  {
   "cell_type": "code",
   "execution_count": 297,
   "id": "516efe03",
   "metadata": {},
   "outputs": [
    {
     "data": {
      "text/plain": [
       "Index(['age', 'bmi', 'children', 'smoker', 'charges', 'female', 'northwest',\n",
       "       'southeast', 'southwest'],\n",
       "      dtype='object')"
      ]
     },
     "execution_count": 297,
     "metadata": {},
     "output_type": "execute_result"
    }
   ],
   "source": [
    "df_seguro.columns"
   ]
  },
  {
   "cell_type": "code",
   "execution_count": 298,
   "id": "4f88c8c5",
   "metadata": {},
   "outputs": [],
   "source": [
    "X = df_seguro.drop('charges',axis=1) #exclusão da variável target\n",
    "y = df_seguro[['charges']] #apenas a variável target"
   ]
  },
  {
   "cell_type": "code",
   "execution_count": 299,
   "id": "6f7e8c76",
   "metadata": {},
   "outputs": [
    {
     "data": {
      "text/html": [
       "<div>\n",
       "<style scoped>\n",
       "    .dataframe tbody tr th:only-of-type {\n",
       "        vertical-align: middle;\n",
       "    }\n",
       "\n",
       "    .dataframe tbody tr th {\n",
       "        vertical-align: top;\n",
       "    }\n",
       "\n",
       "    .dataframe thead th {\n",
       "        text-align: right;\n",
       "    }\n",
       "</style>\n",
       "<table border=\"1\" class=\"dataframe\">\n",
       "  <thead>\n",
       "    <tr style=\"text-align: right;\">\n",
       "      <th></th>\n",
       "      <th>age</th>\n",
       "      <th>bmi</th>\n",
       "      <th>children</th>\n",
       "      <th>smoker</th>\n",
       "      <th>female</th>\n",
       "      <th>northwest</th>\n",
       "      <th>southeast</th>\n",
       "      <th>southwest</th>\n",
       "    </tr>\n",
       "  </thead>\n",
       "  <tbody>\n",
       "    <tr>\n",
       "      <th>0</th>\n",
       "      <td>19</td>\n",
       "      <td>27.90</td>\n",
       "      <td>0</td>\n",
       "      <td>1</td>\n",
       "      <td>1</td>\n",
       "      <td>0</td>\n",
       "      <td>0</td>\n",
       "      <td>1</td>\n",
       "    </tr>\n",
       "    <tr>\n",
       "      <th>1</th>\n",
       "      <td>18</td>\n",
       "      <td>33.77</td>\n",
       "      <td>1</td>\n",
       "      <td>0</td>\n",
       "      <td>0</td>\n",
       "      <td>0</td>\n",
       "      <td>1</td>\n",
       "      <td>0</td>\n",
       "    </tr>\n",
       "    <tr>\n",
       "      <th>2</th>\n",
       "      <td>28</td>\n",
       "      <td>33.00</td>\n",
       "      <td>3</td>\n",
       "      <td>0</td>\n",
       "      <td>0</td>\n",
       "      <td>0</td>\n",
       "      <td>1</td>\n",
       "      <td>0</td>\n",
       "    </tr>\n",
       "    <tr>\n",
       "      <th>3</th>\n",
       "      <td>33</td>\n",
       "      <td>22.70</td>\n",
       "      <td>0</td>\n",
       "      <td>0</td>\n",
       "      <td>0</td>\n",
       "      <td>1</td>\n",
       "      <td>0</td>\n",
       "      <td>0</td>\n",
       "    </tr>\n",
       "    <tr>\n",
       "      <th>4</th>\n",
       "      <td>32</td>\n",
       "      <td>28.88</td>\n",
       "      <td>0</td>\n",
       "      <td>0</td>\n",
       "      <td>0</td>\n",
       "      <td>1</td>\n",
       "      <td>0</td>\n",
       "      <td>0</td>\n",
       "    </tr>\n",
       "  </tbody>\n",
       "</table>\n",
       "</div>"
      ],
      "text/plain": [
       "   age   bmi  children  smoker  female  northwest  southeast  southwest\n",
       "0   19 27.90         0       1       1          0          0          1\n",
       "1   18 33.77         1       0       0          0          1          0\n",
       "2   28 33.00         3       0       0          0          1          0\n",
       "3   33 22.70         0       0       0          1          0          0\n",
       "4   32 28.88         0       0       0          1          0          0"
      ]
     },
     "execution_count": 299,
     "metadata": {},
     "output_type": "execute_result"
    }
   ],
   "source": [
    "# Variáveis preditoras (também conhecidas como independentes ou features)\n",
    "X.head()"
   ]
  },
  {
   "cell_type": "code",
   "execution_count": 300,
   "id": "578509ca",
   "metadata": {},
   "outputs": [
    {
     "data": {
      "text/html": [
       "<div>\n",
       "<style scoped>\n",
       "    .dataframe tbody tr th:only-of-type {\n",
       "        vertical-align: middle;\n",
       "    }\n",
       "\n",
       "    .dataframe tbody tr th {\n",
       "        vertical-align: top;\n",
       "    }\n",
       "\n",
       "    .dataframe thead th {\n",
       "        text-align: right;\n",
       "    }\n",
       "</style>\n",
       "<table border=\"1\" class=\"dataframe\">\n",
       "  <thead>\n",
       "    <tr style=\"text-align: right;\">\n",
       "      <th></th>\n",
       "      <th>charges</th>\n",
       "    </tr>\n",
       "  </thead>\n",
       "  <tbody>\n",
       "    <tr>\n",
       "      <th>0</th>\n",
       "      <td>16884.92</td>\n",
       "    </tr>\n",
       "    <tr>\n",
       "      <th>1</th>\n",
       "      <td>1725.55</td>\n",
       "    </tr>\n",
       "    <tr>\n",
       "      <th>2</th>\n",
       "      <td>4449.46</td>\n",
       "    </tr>\n",
       "    <tr>\n",
       "      <th>3</th>\n",
       "      <td>21984.47</td>\n",
       "    </tr>\n",
       "    <tr>\n",
       "      <th>4</th>\n",
       "      <td>3866.86</td>\n",
       "    </tr>\n",
       "  </tbody>\n",
       "</table>\n",
       "</div>"
      ],
      "text/plain": [
       "   charges\n",
       "0 16884.92\n",
       "1  1725.55\n",
       "2  4449.46\n",
       "3 21984.47\n",
       "4  3866.86"
      ]
     },
     "execution_count": 300,
     "metadata": {},
     "output_type": "execute_result"
    }
   ],
   "source": [
    "# Variável target (também conhecida como dependente ou label)\n",
    "y.head()"
   ]
  },
  {
   "cell_type": "markdown",
   "id": "9ad5346b",
   "metadata": {},
   "source": [
    "## Separação das bases (treino - teste)\n",
    "\n",
    "Separação das bases para evitar data leakage em um feature scaling. Utilização do scikit learn."
   ]
  },
  {
   "cell_type": "code",
   "execution_count": 301,
   "id": "d21c8d9c",
   "metadata": {},
   "outputs": [],
   "source": [
    "#Importação da função do scikit learn para separação das bases\n",
    "from sklearn.model_selection import train_test_split"
   ]
  },
  {
   "cell_type": "code",
   "execution_count": 302,
   "id": "b6b9c322",
   "metadata": {},
   "outputs": [],
   "source": [
    "#Tupla com 4 elementos: X de treino e teste, e y de treino e teste\n",
    "X_treino, X_teste,y_treino, y_teste = train_test_split(X,y,test_size=.2,random_state=42)"
   ]
  },
  {
   "cell_type": "code",
   "execution_count": 303,
   "id": "26ed43ea",
   "metadata": {},
   "outputs": [
    {
     "data": {
      "text/plain": [
       "((1070, 8), (268, 8), (1070, 1), (268, 1))"
      ]
     },
     "execution_count": 303,
     "metadata": {},
     "output_type": "execute_result"
    }
   ],
   "source": [
    "#Verificação da quantidade de linhas em treino e teste\n",
    "X_treino.shape, X_teste.shape,y_treino.shape, y_teste.shape"
   ]
  },
  {
   "cell_type": "code",
   "execution_count": 304,
   "id": "eaee9126",
   "metadata": {},
   "outputs": [
    {
     "data": {
      "text/plain": [
       "1338"
      ]
     },
     "execution_count": 304,
     "metadata": {},
     "output_type": "execute_result"
    }
   ],
   "source": [
    "1070+268"
   ]
  },
  {
   "cell_type": "markdown",
   "id": "c65a514f",
   "metadata": {},
   "source": [
    "## Feature Scaling\n",
    "\n",
    "Utilização do MinMaxScaler para executar o scaling das features com objetivo de mantê-las em uma mesma escala de grandeza."
   ]
  },
  {
   "cell_type": "code",
   "execution_count": 305,
   "id": "a4fe42e4",
   "metadata": {},
   "outputs": [
    {
     "data": {
      "text/html": [
       "<div>\n",
       "<style scoped>\n",
       "    .dataframe tbody tr th:only-of-type {\n",
       "        vertical-align: middle;\n",
       "    }\n",
       "\n",
       "    .dataframe tbody tr th {\n",
       "        vertical-align: top;\n",
       "    }\n",
       "\n",
       "    .dataframe thead th {\n",
       "        text-align: right;\n",
       "    }\n",
       "</style>\n",
       "<table border=\"1\" class=\"dataframe\">\n",
       "  <thead>\n",
       "    <tr style=\"text-align: right;\">\n",
       "      <th></th>\n",
       "      <th>age</th>\n",
       "      <th>bmi</th>\n",
       "      <th>children</th>\n",
       "      <th>smoker</th>\n",
       "      <th>charges</th>\n",
       "      <th>female</th>\n",
       "      <th>northwest</th>\n",
       "      <th>southeast</th>\n",
       "      <th>southwest</th>\n",
       "    </tr>\n",
       "  </thead>\n",
       "  <tbody>\n",
       "    <tr>\n",
       "      <th>count</th>\n",
       "      <td>1338.00</td>\n",
       "      <td>1338.00</td>\n",
       "      <td>1338.00</td>\n",
       "      <td>1338.00</td>\n",
       "      <td>1338.00</td>\n",
       "      <td>1338.00</td>\n",
       "      <td>1338.00</td>\n",
       "      <td>1338.00</td>\n",
       "      <td>1338.00</td>\n",
       "    </tr>\n",
       "    <tr>\n",
       "      <th>mean</th>\n",
       "      <td>39.21</td>\n",
       "      <td>30.66</td>\n",
       "      <td>1.09</td>\n",
       "      <td>0.20</td>\n",
       "      <td>13270.42</td>\n",
       "      <td>0.49</td>\n",
       "      <td>0.24</td>\n",
       "      <td>0.27</td>\n",
       "      <td>0.24</td>\n",
       "    </tr>\n",
       "    <tr>\n",
       "      <th>std</th>\n",
       "      <td>14.05</td>\n",
       "      <td>6.10</td>\n",
       "      <td>1.21</td>\n",
       "      <td>0.40</td>\n",
       "      <td>12110.01</td>\n",
       "      <td>0.50</td>\n",
       "      <td>0.43</td>\n",
       "      <td>0.45</td>\n",
       "      <td>0.43</td>\n",
       "    </tr>\n",
       "    <tr>\n",
       "      <th>min</th>\n",
       "      <td>18.00</td>\n",
       "      <td>15.96</td>\n",
       "      <td>0.00</td>\n",
       "      <td>0.00</td>\n",
       "      <td>1121.87</td>\n",
       "      <td>0.00</td>\n",
       "      <td>0.00</td>\n",
       "      <td>0.00</td>\n",
       "      <td>0.00</td>\n",
       "    </tr>\n",
       "    <tr>\n",
       "      <th>25%</th>\n",
       "      <td>27.00</td>\n",
       "      <td>26.30</td>\n",
       "      <td>0.00</td>\n",
       "      <td>0.00</td>\n",
       "      <td>4740.29</td>\n",
       "      <td>0.00</td>\n",
       "      <td>0.00</td>\n",
       "      <td>0.00</td>\n",
       "      <td>0.00</td>\n",
       "    </tr>\n",
       "    <tr>\n",
       "      <th>50%</th>\n",
       "      <td>39.00</td>\n",
       "      <td>30.40</td>\n",
       "      <td>1.00</td>\n",
       "      <td>0.00</td>\n",
       "      <td>9382.03</td>\n",
       "      <td>0.00</td>\n",
       "      <td>0.00</td>\n",
       "      <td>0.00</td>\n",
       "      <td>0.00</td>\n",
       "    </tr>\n",
       "    <tr>\n",
       "      <th>75%</th>\n",
       "      <td>51.00</td>\n",
       "      <td>34.69</td>\n",
       "      <td>2.00</td>\n",
       "      <td>0.00</td>\n",
       "      <td>16639.91</td>\n",
       "      <td>1.00</td>\n",
       "      <td>0.00</td>\n",
       "      <td>1.00</td>\n",
       "      <td>0.00</td>\n",
       "    </tr>\n",
       "    <tr>\n",
       "      <th>max</th>\n",
       "      <td>64.00</td>\n",
       "      <td>53.13</td>\n",
       "      <td>5.00</td>\n",
       "      <td>1.00</td>\n",
       "      <td>63770.43</td>\n",
       "      <td>1.00</td>\n",
       "      <td>1.00</td>\n",
       "      <td>1.00</td>\n",
       "      <td>1.00</td>\n",
       "    </tr>\n",
       "  </tbody>\n",
       "</table>\n",
       "</div>"
      ],
      "text/plain": [
       "          age     bmi  children  smoker  charges  female  northwest  \\\n",
       "count 1338.00 1338.00   1338.00 1338.00  1338.00 1338.00    1338.00   \n",
       "mean    39.21   30.66      1.09    0.20 13270.42    0.49       0.24   \n",
       "std     14.05    6.10      1.21    0.40 12110.01    0.50       0.43   \n",
       "min     18.00   15.96      0.00    0.00  1121.87    0.00       0.00   \n",
       "25%     27.00   26.30      0.00    0.00  4740.29    0.00       0.00   \n",
       "50%     39.00   30.40      1.00    0.00  9382.03    0.00       0.00   \n",
       "75%     51.00   34.69      2.00    0.00 16639.91    1.00       0.00   \n",
       "max     64.00   53.13      5.00    1.00 63770.43    1.00       1.00   \n",
       "\n",
       "       southeast  southwest  \n",
       "count    1338.00    1338.00  \n",
       "mean        0.27       0.24  \n",
       "std         0.45       0.43  \n",
       "min         0.00       0.00  \n",
       "25%         0.00       0.00  \n",
       "50%         0.00       0.00  \n",
       "75%         1.00       0.00  \n",
       "max         1.00       1.00  "
      ]
     },
     "execution_count": 305,
     "metadata": {},
     "output_type": "execute_result"
    }
   ],
   "source": [
    "df_seguro.describe()"
   ]
  },
  {
   "cell_type": "code",
   "execution_count": 306,
   "id": "43aedfed",
   "metadata": {},
   "outputs": [],
   "source": [
    "# Normalização - MinMaxScaler, Padronização - StandardScaler\n",
    "from sklearn.preprocessing import MinMaxScaler\n",
    "\n",
    "#Scaler\n",
    "scaler = MinMaxScaler()"
   ]
  },
  {
   "cell_type": "code",
   "execution_count": 307,
   "id": "89628333",
   "metadata": {},
   "outputs": [
    {
     "data": {
      "text/plain": [
       "sklearn.preprocessing._data.MinMaxScaler"
      ]
     },
     "execution_count": 307,
     "metadata": {},
     "output_type": "execute_result"
    }
   ],
   "source": [
    "type(scaler)"
   ]
  },
  {
   "cell_type": "code",
   "execution_count": 308,
   "id": "42aca086",
   "metadata": {},
   "outputs": [
    {
     "data": {
      "text/plain": [
       "MinMaxScaler()"
      ]
     },
     "execution_count": 308,
     "metadata": {},
     "output_type": "execute_result"
    }
   ],
   "source": [
    "scaler"
   ]
  },
  {
   "cell_type": "code",
   "execution_count": 309,
   "id": "0d195fb2",
   "metadata": {},
   "outputs": [
    {
     "data": {
      "text/plain": [
       "((1070, 8), (268, 8))"
      ]
     },
     "execution_count": 309,
     "metadata": {},
     "output_type": "execute_result"
    }
   ],
   "source": [
    "colunas = X_treino.columns\n",
    "\n",
    "# Parte importante!! Fit no treino! Transform no treino e teste\n",
    "X_treino[colunas] = scaler.fit_transform(X_treino)\n",
    "X_teste[colunas] = scaler.transform(X_teste)\n",
    "\n",
    "X_treino.shape, X_teste.shape"
   ]
  },
  {
   "cell_type": "code",
   "execution_count": 310,
   "id": "f9687692",
   "metadata": {},
   "outputs": [
    {
     "data": {
      "text/html": [
       "<div>\n",
       "<style scoped>\n",
       "    .dataframe tbody tr th:only-of-type {\n",
       "        vertical-align: middle;\n",
       "    }\n",
       "\n",
       "    .dataframe tbody tr th {\n",
       "        vertical-align: top;\n",
       "    }\n",
       "\n",
       "    .dataframe thead th {\n",
       "        text-align: right;\n",
       "    }\n",
       "</style>\n",
       "<table border=\"1\" class=\"dataframe\">\n",
       "  <thead>\n",
       "    <tr style=\"text-align: right;\">\n",
       "      <th></th>\n",
       "      <th>age</th>\n",
       "      <th>bmi</th>\n",
       "      <th>children</th>\n",
       "      <th>smoker</th>\n",
       "      <th>female</th>\n",
       "      <th>northwest</th>\n",
       "      <th>southeast</th>\n",
       "      <th>southwest</th>\n",
       "    </tr>\n",
       "  </thead>\n",
       "  <tbody>\n",
       "    <tr>\n",
       "      <th>560</th>\n",
       "      <td>0.61</td>\n",
       "      <td>0.11</td>\n",
       "      <td>0.40</td>\n",
       "      <td>0.00</td>\n",
       "      <td>1.00</td>\n",
       "      <td>1.00</td>\n",
       "      <td>0.00</td>\n",
       "      <td>0.00</td>\n",
       "    </tr>\n",
       "    <tr>\n",
       "      <th>1285</th>\n",
       "      <td>0.63</td>\n",
       "      <td>0.22</td>\n",
       "      <td>0.00</td>\n",
       "      <td>0.00</td>\n",
       "      <td>1.00</td>\n",
       "      <td>0.00</td>\n",
       "      <td>0.00</td>\n",
       "      <td>0.00</td>\n",
       "    </tr>\n",
       "    <tr>\n",
       "      <th>1142</th>\n",
       "      <td>0.74</td>\n",
       "      <td>0.24</td>\n",
       "      <td>0.00</td>\n",
       "      <td>0.00</td>\n",
       "      <td>1.00</td>\n",
       "      <td>0.00</td>\n",
       "      <td>1.00</td>\n",
       "      <td>0.00</td>\n",
       "    </tr>\n",
       "    <tr>\n",
       "      <th>969</th>\n",
       "      <td>0.46</td>\n",
       "      <td>0.49</td>\n",
       "      <td>1.00</td>\n",
       "      <td>0.00</td>\n",
       "      <td>1.00</td>\n",
       "      <td>0.00</td>\n",
       "      <td>1.00</td>\n",
       "      <td>0.00</td>\n",
       "    </tr>\n",
       "    <tr>\n",
       "      <th>486</th>\n",
       "      <td>0.78</td>\n",
       "      <td>0.15</td>\n",
       "      <td>0.60</td>\n",
       "      <td>0.00</td>\n",
       "      <td>1.00</td>\n",
       "      <td>1.00</td>\n",
       "      <td>0.00</td>\n",
       "      <td>0.00</td>\n",
       "    </tr>\n",
       "  </tbody>\n",
       "</table>\n",
       "</div>"
      ],
      "text/plain": [
       "      age  bmi  children  smoker  female  northwest  southeast  southwest\n",
       "560  0.61 0.11      0.40    0.00    1.00       1.00       0.00       0.00\n",
       "1285 0.63 0.22      0.00    0.00    1.00       0.00       0.00       0.00\n",
       "1142 0.74 0.24      0.00    0.00    1.00       0.00       1.00       0.00\n",
       "969  0.46 0.49      1.00    0.00    1.00       0.00       1.00       0.00\n",
       "486  0.78 0.15      0.60    0.00    1.00       1.00       0.00       0.00"
      ]
     },
     "execution_count": 310,
     "metadata": {},
     "output_type": "execute_result"
    }
   ],
   "source": [
    "X_treino.head()"
   ]
  },
  {
   "cell_type": "code",
   "execution_count": 311,
   "id": "b4ad5e01",
   "metadata": {},
   "outputs": [
    {
     "data": {
      "text/html": [
       "<div>\n",
       "<style scoped>\n",
       "    .dataframe tbody tr th:only-of-type {\n",
       "        vertical-align: middle;\n",
       "    }\n",
       "\n",
       "    .dataframe tbody tr th {\n",
       "        vertical-align: top;\n",
       "    }\n",
       "\n",
       "    .dataframe thead th {\n",
       "        text-align: right;\n",
       "    }\n",
       "</style>\n",
       "<table border=\"1\" class=\"dataframe\">\n",
       "  <thead>\n",
       "    <tr style=\"text-align: right;\">\n",
       "      <th></th>\n",
       "      <th>age</th>\n",
       "      <th>bmi</th>\n",
       "      <th>children</th>\n",
       "      <th>smoker</th>\n",
       "      <th>female</th>\n",
       "      <th>northwest</th>\n",
       "      <th>southeast</th>\n",
       "      <th>southwest</th>\n",
       "    </tr>\n",
       "  </thead>\n",
       "  <tbody>\n",
       "    <tr>\n",
       "      <th>count</th>\n",
       "      <td>1070.00</td>\n",
       "      <td>1070.00</td>\n",
       "      <td>1070.00</td>\n",
       "      <td>1070.00</td>\n",
       "      <td>1070.00</td>\n",
       "      <td>1070.00</td>\n",
       "      <td>1070.00</td>\n",
       "      <td>1070.00</td>\n",
       "    </tr>\n",
       "    <tr>\n",
       "      <th>mean</th>\n",
       "      <td>0.46</td>\n",
       "      <td>0.39</td>\n",
       "      <td>0.22</td>\n",
       "      <td>0.21</td>\n",
       "      <td>0.49</td>\n",
       "      <td>0.24</td>\n",
       "      <td>0.26</td>\n",
       "      <td>0.25</td>\n",
       "    </tr>\n",
       "    <tr>\n",
       "      <th>std</th>\n",
       "      <td>0.31</td>\n",
       "      <td>0.16</td>\n",
       "      <td>0.24</td>\n",
       "      <td>0.40</td>\n",
       "      <td>0.50</td>\n",
       "      <td>0.43</td>\n",
       "      <td>0.44</td>\n",
       "      <td>0.43</td>\n",
       "    </tr>\n",
       "    <tr>\n",
       "      <th>min</th>\n",
       "      <td>0.00</td>\n",
       "      <td>0.00</td>\n",
       "      <td>0.00</td>\n",
       "      <td>0.00</td>\n",
       "      <td>0.00</td>\n",
       "      <td>0.00</td>\n",
       "      <td>0.00</td>\n",
       "      <td>0.00</td>\n",
       "    </tr>\n",
       "    <tr>\n",
       "      <th>25%</th>\n",
       "      <td>0.20</td>\n",
       "      <td>0.28</td>\n",
       "      <td>0.00</td>\n",
       "      <td>0.00</td>\n",
       "      <td>0.00</td>\n",
       "      <td>0.00</td>\n",
       "      <td>0.00</td>\n",
       "      <td>0.00</td>\n",
       "    </tr>\n",
       "    <tr>\n",
       "      <th>50%</th>\n",
       "      <td>0.47</td>\n",
       "      <td>0.38</td>\n",
       "      <td>0.20</td>\n",
       "      <td>0.00</td>\n",
       "      <td>0.00</td>\n",
       "      <td>0.00</td>\n",
       "      <td>0.00</td>\n",
       "      <td>0.00</td>\n",
       "    </tr>\n",
       "    <tr>\n",
       "      <th>75%</th>\n",
       "      <td>0.72</td>\n",
       "      <td>0.50</td>\n",
       "      <td>0.40</td>\n",
       "      <td>0.00</td>\n",
       "      <td>1.00</td>\n",
       "      <td>0.00</td>\n",
       "      <td>1.00</td>\n",
       "      <td>0.00</td>\n",
       "    </tr>\n",
       "    <tr>\n",
       "      <th>max</th>\n",
       "      <td>1.00</td>\n",
       "      <td>1.00</td>\n",
       "      <td>1.00</td>\n",
       "      <td>1.00</td>\n",
       "      <td>1.00</td>\n",
       "      <td>1.00</td>\n",
       "      <td>1.00</td>\n",
       "      <td>1.00</td>\n",
       "    </tr>\n",
       "  </tbody>\n",
       "</table>\n",
       "</div>"
      ],
      "text/plain": [
       "          age     bmi  children  smoker  female  northwest  southeast  \\\n",
       "count 1070.00 1070.00   1070.00 1070.00 1070.00    1070.00    1070.00   \n",
       "mean     0.46    0.39      0.22    0.21    0.49       0.24       0.26   \n",
       "std      0.31    0.16      0.24    0.40    0.50       0.43       0.44   \n",
       "min      0.00    0.00      0.00    0.00    0.00       0.00       0.00   \n",
       "25%      0.20    0.28      0.00    0.00    0.00       0.00       0.00   \n",
       "50%      0.47    0.38      0.20    0.00    0.00       0.00       0.00   \n",
       "75%      0.72    0.50      0.40    0.00    1.00       0.00       1.00   \n",
       "max      1.00    1.00      1.00    1.00    1.00       1.00       1.00   \n",
       "\n",
       "       southwest  \n",
       "count    1070.00  \n",
       "mean        0.25  \n",
       "std         0.43  \n",
       "min         0.00  \n",
       "25%         0.00  \n",
       "50%         0.00  \n",
       "75%         0.00  \n",
       "max         1.00  "
      ]
     },
     "execution_count": 311,
     "metadata": {},
     "output_type": "execute_result"
    }
   ],
   "source": [
    "X_treino.describe()"
   ]
  },
  {
   "cell_type": "code",
   "execution_count": 312,
   "id": "7b42b5a3",
   "metadata": {},
   "outputs": [
    {
     "data": {
      "text/html": [
       "<div>\n",
       "<style scoped>\n",
       "    .dataframe tbody tr th:only-of-type {\n",
       "        vertical-align: middle;\n",
       "    }\n",
       "\n",
       "    .dataframe tbody tr th {\n",
       "        vertical-align: top;\n",
       "    }\n",
       "\n",
       "    .dataframe thead th {\n",
       "        text-align: right;\n",
       "    }\n",
       "</style>\n",
       "<table border=\"1\" class=\"dataframe\">\n",
       "  <thead>\n",
       "    <tr style=\"text-align: right;\">\n",
       "      <th></th>\n",
       "      <th>age</th>\n",
       "      <th>bmi</th>\n",
       "      <th>children</th>\n",
       "      <th>smoker</th>\n",
       "      <th>female</th>\n",
       "      <th>northwest</th>\n",
       "      <th>southeast</th>\n",
       "      <th>southwest</th>\n",
       "    </tr>\n",
       "  </thead>\n",
       "  <tbody>\n",
       "    <tr>\n",
       "      <th>764</th>\n",
       "      <td>0.59</td>\n",
       "      <td>0.25</td>\n",
       "      <td>0.40</td>\n",
       "      <td>0.00</td>\n",
       "      <td>1.00</td>\n",
       "      <td>0.00</td>\n",
       "      <td>0.00</td>\n",
       "      <td>0.00</td>\n",
       "    </tr>\n",
       "    <tr>\n",
       "      <th>887</th>\n",
       "      <td>0.39</td>\n",
       "      <td>0.38</td>\n",
       "      <td>0.00</td>\n",
       "      <td>0.00</td>\n",
       "      <td>1.00</td>\n",
       "      <td>1.00</td>\n",
       "      <td>0.00</td>\n",
       "      <td>0.00</td>\n",
       "    </tr>\n",
       "    <tr>\n",
       "      <th>890</th>\n",
       "      <td>1.00</td>\n",
       "      <td>0.29</td>\n",
       "      <td>0.00</td>\n",
       "      <td>1.00</td>\n",
       "      <td>1.00</td>\n",
       "      <td>1.00</td>\n",
       "      <td>0.00</td>\n",
       "      <td>0.00</td>\n",
       "    </tr>\n",
       "    <tr>\n",
       "      <th>1293</th>\n",
       "      <td>0.61</td>\n",
       "      <td>0.26</td>\n",
       "      <td>0.60</td>\n",
       "      <td>0.00</td>\n",
       "      <td>0.00</td>\n",
       "      <td>1.00</td>\n",
       "      <td>0.00</td>\n",
       "      <td>0.00</td>\n",
       "    </tr>\n",
       "    <tr>\n",
       "      <th>259</th>\n",
       "      <td>0.02</td>\n",
       "      <td>0.43</td>\n",
       "      <td>0.00</td>\n",
       "      <td>1.00</td>\n",
       "      <td>0.00</td>\n",
       "      <td>1.00</td>\n",
       "      <td>0.00</td>\n",
       "      <td>0.00</td>\n",
       "    </tr>\n",
       "  </tbody>\n",
       "</table>\n",
       "</div>"
      ],
      "text/plain": [
       "      age  bmi  children  smoker  female  northwest  southeast  southwest\n",
       "764  0.59 0.25      0.40    0.00    1.00       0.00       0.00       0.00\n",
       "887  0.39 0.38      0.00    0.00    1.00       1.00       0.00       0.00\n",
       "890  1.00 0.29      0.00    1.00    1.00       1.00       0.00       0.00\n",
       "1293 0.61 0.26      0.60    0.00    0.00       1.00       0.00       0.00\n",
       "259  0.02 0.43      0.00    1.00    0.00       1.00       0.00       0.00"
      ]
     },
     "execution_count": 312,
     "metadata": {},
     "output_type": "execute_result"
    }
   ],
   "source": [
    "X_teste.head()"
   ]
  },
  {
   "cell_type": "code",
   "execution_count": 313,
   "id": "eb559485",
   "metadata": {},
   "outputs": [
    {
     "data": {
      "text/html": [
       "<div>\n",
       "<style scoped>\n",
       "    .dataframe tbody tr th:only-of-type {\n",
       "        vertical-align: middle;\n",
       "    }\n",
       "\n",
       "    .dataframe tbody tr th {\n",
       "        vertical-align: top;\n",
       "    }\n",
       "\n",
       "    .dataframe thead th {\n",
       "        text-align: right;\n",
       "    }\n",
       "</style>\n",
       "<table border=\"1\" class=\"dataframe\">\n",
       "  <thead>\n",
       "    <tr style=\"text-align: right;\">\n",
       "      <th></th>\n",
       "      <th>age</th>\n",
       "      <th>bmi</th>\n",
       "      <th>children</th>\n",
       "      <th>smoker</th>\n",
       "      <th>female</th>\n",
       "      <th>northwest</th>\n",
       "      <th>southeast</th>\n",
       "      <th>southwest</th>\n",
       "    </tr>\n",
       "  </thead>\n",
       "  <tbody>\n",
       "    <tr>\n",
       "      <th>count</th>\n",
       "      <td>268.00</td>\n",
       "      <td>268.00</td>\n",
       "      <td>268.00</td>\n",
       "      <td>268.00</td>\n",
       "      <td>268.00</td>\n",
       "      <td>268.00</td>\n",
       "      <td>268.00</td>\n",
       "      <td>268.00</td>\n",
       "    </tr>\n",
       "    <tr>\n",
       "      <th>mean</th>\n",
       "      <td>0.45</td>\n",
       "      <td>0.41</td>\n",
       "      <td>0.21</td>\n",
       "      <td>0.20</td>\n",
       "      <td>0.52</td>\n",
       "      <td>0.26</td>\n",
       "      <td>0.30</td>\n",
       "      <td>0.23</td>\n",
       "    </tr>\n",
       "    <tr>\n",
       "      <th>std</th>\n",
       "      <td>0.30</td>\n",
       "      <td>0.17</td>\n",
       "      <td>0.23</td>\n",
       "      <td>0.40</td>\n",
       "      <td>0.50</td>\n",
       "      <td>0.44</td>\n",
       "      <td>0.46</td>\n",
       "      <td>0.42</td>\n",
       "    </tr>\n",
       "    <tr>\n",
       "      <th>min</th>\n",
       "      <td>0.00</td>\n",
       "      <td>0.02</td>\n",
       "      <td>0.00</td>\n",
       "      <td>0.00</td>\n",
       "      <td>0.00</td>\n",
       "      <td>0.00</td>\n",
       "      <td>0.00</td>\n",
       "      <td>0.00</td>\n",
       "    </tr>\n",
       "    <tr>\n",
       "      <th>25%</th>\n",
       "      <td>0.17</td>\n",
       "      <td>0.29</td>\n",
       "      <td>0.00</td>\n",
       "      <td>0.00</td>\n",
       "      <td>0.00</td>\n",
       "      <td>0.00</td>\n",
       "      <td>0.00</td>\n",
       "      <td>0.00</td>\n",
       "    </tr>\n",
       "    <tr>\n",
       "      <th>50%</th>\n",
       "      <td>0.43</td>\n",
       "      <td>0.40</td>\n",
       "      <td>0.20</td>\n",
       "      <td>0.00</td>\n",
       "      <td>1.00</td>\n",
       "      <td>0.00</td>\n",
       "      <td>0.00</td>\n",
       "      <td>0.00</td>\n",
       "    </tr>\n",
       "    <tr>\n",
       "      <th>75%</th>\n",
       "      <td>0.70</td>\n",
       "      <td>0.52</td>\n",
       "      <td>0.40</td>\n",
       "      <td>0.00</td>\n",
       "      <td>1.00</td>\n",
       "      <td>1.00</td>\n",
       "      <td>1.00</td>\n",
       "      <td>0.00</td>\n",
       "    </tr>\n",
       "    <tr>\n",
       "      <th>max</th>\n",
       "      <td>1.00</td>\n",
       "      <td>0.99</td>\n",
       "      <td>1.00</td>\n",
       "      <td>1.00</td>\n",
       "      <td>1.00</td>\n",
       "      <td>1.00</td>\n",
       "      <td>1.00</td>\n",
       "      <td>1.00</td>\n",
       "    </tr>\n",
       "  </tbody>\n",
       "</table>\n",
       "</div>"
      ],
      "text/plain": [
       "         age    bmi  children  smoker  female  northwest  southeast  southwest\n",
       "count 268.00 268.00    268.00  268.00  268.00     268.00     268.00     268.00\n",
       "mean    0.45   0.41      0.21    0.20    0.52       0.26       0.30       0.23\n",
       "std     0.30   0.17      0.23    0.40    0.50       0.44       0.46       0.42\n",
       "min     0.00   0.02      0.00    0.00    0.00       0.00       0.00       0.00\n",
       "25%     0.17   0.29      0.00    0.00    0.00       0.00       0.00       0.00\n",
       "50%     0.43   0.40      0.20    0.00    1.00       0.00       0.00       0.00\n",
       "75%     0.70   0.52      0.40    0.00    1.00       1.00       1.00       0.00\n",
       "max     1.00   0.99      1.00    1.00    1.00       1.00       1.00       1.00"
      ]
     },
     "execution_count": 313,
     "metadata": {},
     "output_type": "execute_result"
    }
   ],
   "source": [
    "X_teste.describe()"
   ]
  },
  {
   "cell_type": "markdown",
   "id": "2fe75674",
   "metadata": {},
   "source": [
    "# Análise da correlação entre as variáveis\n",
    "\n",
    "Avaliar se as variáveis preditoreas apresentam colinearidade. Caso ocorra, efetuar a remoção para que o modelo não seja afetado. "
   ]
  },
  {
   "cell_type": "code",
   "execution_count": 314,
   "id": "b32a513d",
   "metadata": {},
   "outputs": [
    {
     "data": {
      "text/plain": [
       "<Axes: >"
      ]
     },
     "execution_count": 314,
     "metadata": {},
     "output_type": "execute_result"
    },
    {
     "data": {
      "image/png": "[encoded data removed]",
      "text/plain": [
       "<Figure size 1000x800 with 2 Axes>"
      ]
     },
     "metadata": {},
     "output_type": "display_data"
    }
   ],
   "source": [
    "figura, graficos = plt.subplots(figsize=(10,8))\n",
    "corr = df_seguro.corr()\n",
    "sns.heatmap(corr, mask=np.zeros_like(corr, dtype=bool),square=True, ax=graficos)"
   ]
  },
  {
   "cell_type": "markdown",
   "id": "29932bef",
   "metadata": {},
   "source": [
    "# Verificação de dados fantantes"
   ]
  },
  {
   "cell_type": "code",
   "execution_count": 315,
   "id": "dca043cd",
   "metadata": {},
   "outputs": [
    {
     "data": {
      "text/plain": [
       "age          0\n",
       "bmi          0\n",
       "children     0\n",
       "smoker       0\n",
       "charges      0\n",
       "female       0\n",
       "northwest    0\n",
       "southeast    0\n",
       "southwest    0\n",
       "dtype: int64"
      ]
     },
     "execution_count": 315,
     "metadata": {},
     "output_type": "execute_result"
    }
   ],
   "source": [
    "#Is null busca quem é nulo (dados faltantes)\n",
    "df_seguro.isnull().sum()\n"
   ]
  },
  {
   "cell_type": "markdown",
   "id": "c3bc8c13",
   "metadata": {},
   "source": [
    "# Machine Learning - Regressão Linear\n",
    "\n",
    "Utilização da regressão linear com cross validation para evitar overfit e ter uma base de comparação para os demais modelos"
   ]
  },
  {
   "cell_type": "code",
   "execution_count": 316,
   "id": "72b8c607",
   "metadata": {},
   "outputs": [],
   "source": [
    "from sklearn.linear_model import LinearRegression\n",
    "from sklearn.model_selection import cross_val_score"
   ]
  },
  {
   "cell_type": "code",
   "execution_count": 317,
   "id": "69eaf659",
   "metadata": {},
   "outputs": [
    {
     "data": {
      "text/plain": [
       "array([-6073.99997254, -6580.87166754, -5233.82683473, -6045.25239632,\n",
       "       -5836.4647871 , -6127.43525895, -7281.08373608, -6321.52706355,\n",
       "       -6193.3145481 , -5637.06299714])"
      ]
     },
     "execution_count": 317,
     "metadata": {},
     "output_type": "execute_result"
    }
   ],
   "source": [
    "# criação do algoritmo (estimador, modelo, preditor, regressor...)\n",
    "regressao_linear = LinearRegression()\n",
    "\n",
    "# Treino utilizando Cross Validation\n",
    "valores_rmse_rl = cross_val_score(estimator=regressao_linear,\n",
    "                                  X=X_treino,\n",
    "                                  y=y_treino,\n",
    "                                  cv=10, # 10-fold CV\n",
    "                                  scoring='neg_root_mean_squared_error')\n",
    "valores_rmse_rl"
   ]
  },
  {
   "cell_type": "code",
   "execution_count": 318,
   "id": "ecd4f67c",
   "metadata": {},
   "outputs": [
    {
     "data": {
      "text/plain": [
       "10"
      ]
     },
     "execution_count": 318,
     "metadata": {},
     "output_type": "execute_result"
    }
   ],
   "source": [
    "len(valores_rmse_rl)"
   ]
  },
  {
   "cell_type": "code",
   "execution_count": 319,
   "id": "c37cd900",
   "metadata": {},
   "outputs": [
    {
     "data": {
      "text/plain": [
       "array([6073.99997254, 6580.87166754, 5233.82683473, 6045.25239632,\n",
       "       5836.4647871 , 6127.43525895, 7281.08373608, 6321.52706355,\n",
       "       6193.3145481 , 5637.06299714])"
      ]
     },
     "execution_count": 319,
     "metadata": {},
     "output_type": "execute_result"
    }
   ],
   "source": [
    "valores_rmse_rl = valores_rmse_rl *-1\n",
    "valores_rmse_rl"
   ]
  },
  {
   "cell_type": "code",
   "execution_count": 320,
   "id": "8fa9e085",
   "metadata": {},
   "outputs": [
    {
     "data": {
      "text/plain": [
       "6133.0839262055"
      ]
     },
     "execution_count": 320,
     "metadata": {},
     "output_type": "execute_result"
    }
   ],
   "source": [
    "media_rsme_rl = valores_rmse_rl.mean()\n",
    "media_rsme_rl"
   ]
  },
  {
   "cell_type": "markdown",
   "id": "3f9c68c1",
   "metadata": {},
   "source": [
    "# Teste de Árvore de Regressão"
   ]
  },
  {
   "cell_type": "code",
   "execution_count": 321,
   "id": "c481efa3",
   "metadata": {},
   "outputs": [
    {
     "data": {
      "text/plain": [
       "array([-6026.43210404, -7673.72029932, -6869.445275  , -6716.2475533 ,\n",
       "       -6790.0761055 , -6376.28098942, -7576.54437827, -7074.609369  ,\n",
       "       -6666.01622171, -6605.57466144])"
      ]
     },
     "execution_count": 321,
     "metadata": {},
     "output_type": "execute_result"
    }
   ],
   "source": [
    "from sklearn.tree import DecisionTreeRegressor\n",
    "\n",
    "arvore_regressao = DecisionTreeRegressor()\n",
    "\n",
    "#Treino utilizando cross validation\n",
    "valores_rmse_arvore = cross_val_score(estimator=arvore_regressao,\n",
    "                                      X=X_treino,\n",
    "                                      y=y_treino,\n",
    "                                      cv=10,\n",
    "                                      scoring='neg_root_mean_squared_error')\n",
    "\n",
    "valores_rmse_arvore"
   ]
  },
  {
   "cell_type": "code",
   "execution_count": 322,
   "id": "5c1b5ec4",
   "metadata": {},
   "outputs": [],
   "source": [
    "valores_rmse_arvore = valores_rmse_arvore *-1"
   ]
  },
  {
   "cell_type": "code",
   "execution_count": 323,
   "id": "21163dd5",
   "metadata": {},
   "outputs": [
    {
     "data": {
      "text/plain": [
       "6837.49469570031"
      ]
     },
     "execution_count": 323,
     "metadata": {},
     "output_type": "execute_result"
    }
   ],
   "source": [
    "media_rsme_arvore = valores_rmse_arvore.mean()\n",
    "media_rsme_arvore"
   ]
  },
  {
   "cell_type": "markdown",
   "id": "4f427538",
   "metadata": {},
   "source": [
    "# Teste de retirada de features que não mostraram influência na variável target"
   ]
  },
  {
   "cell_type": "code",
   "execution_count": 324,
   "id": "17e25a5c",
   "metadata": {},
   "outputs": [
    {
     "data": {
      "text/plain": [
       "Index(['age', 'bmi', 'children', 'smoker', 'female', 'northwest', 'southeast',\n",
       "       'southwest'],\n",
       "      dtype='object')"
      ]
     },
     "execution_count": 324,
     "metadata": {},
     "output_type": "execute_result"
    }
   ],
   "source": [
    "X_treino.columns"
   ]
  },
  {
   "cell_type": "code",
   "execution_count": 325,
   "id": "61dc1a65",
   "metadata": {},
   "outputs": [
    {
     "data": {
      "text/plain": [
       "6121.545062597131"
      ]
     },
     "execution_count": 325,
     "metadata": {},
     "output_type": "execute_result"
    }
   ],
   "source": [
    "colunas_regiao = ['northwest','southeast','southwest']\n",
    "\n",
    "valores_rsme_rl_sem_regiao = cross_val_score(estimator=regressao_linear,\n",
    "                                             X=X_treino.drop(colunas_regiao, axis=1),\n",
    "                                             y=y_treino,\n",
    "                                             cv=10,\n",
    "                                             scoring='neg_root_mean_squared_error')\n",
    "valores_rsme_rl_sem_regiao.mean() *-1"
   ]
  },
  {
   "cell_type": "code",
   "execution_count": 326,
   "id": "9a2eea6c",
   "metadata": {},
   "outputs": [],
   "source": [
    "valores_rsme_rl_sem_regiao = valores_rsme_rl_sem_regiao *-1"
   ]
  },
  {
   "cell_type": "code",
   "execution_count": 327,
   "id": "cf9fac25",
   "metadata": {},
   "outputs": [
    {
     "data": {
      "text/plain": [
       "6991.860456547882"
      ]
     },
     "execution_count": 327,
     "metadata": {},
     "output_type": "execute_result"
    }
   ],
   "source": [
    "colunas_regiao = ['northwest','southeast','southwest']\n",
    "\n",
    "valores_rsme_arvore_sem_regiao = cross_val_score(estimator=arvore_regressao,\n",
    "                                             X=X_treino.drop(colunas_regiao, axis=1),\n",
    "                                             y=y_treino,\n",
    "                                             cv=10,\n",
    "                                             scoring='neg_root_mean_squared_error')\n",
    "valores_rsme_arvore_sem_regiao.mean() *-1"
   ]
  },
  {
   "cell_type": "code",
   "execution_count": 328,
   "id": "a07d515a",
   "metadata": {},
   "outputs": [
    {
     "data": {
      "text/plain": [
       "6114.850969275503"
      ]
     },
     "execution_count": 328,
     "metadata": {},
     "output_type": "execute_result"
    }
   ],
   "source": [
    "colunas_regiao_female = ['northwest','southeast','southwest','female']\n",
    "\n",
    "valores_rsme_rl_sem_regiao_female = cross_val_score(estimator=regressao_linear,\n",
    "                                             X=X_treino.drop(colunas_regiao_female, axis=1),\n",
    "                                             y=y_treino,\n",
    "                                             cv=10,\n",
    "                                             scoring='neg_root_mean_squared_error')\n",
    "valores_rsme_rl_sem_regiao_female.mean() *-1"
   ]
  },
  {
   "cell_type": "code",
   "execution_count": 329,
   "id": "ed7ce732",
   "metadata": {},
   "outputs": [],
   "source": [
    "valores_rsme_rl_sem_regiao_female = valores_rsme_rl_sem_regiao_female *-1"
   ]
  },
  {
   "cell_type": "code",
   "execution_count": 330,
   "id": "70ed6a75",
   "metadata": {},
   "outputs": [
    {
     "data": {
      "text/plain": [
       "Text(0.5, 1.0, 'Comparação de RMSE')"
      ]
     },
     "execution_count": 330,
     "metadata": {},
     "output_type": "execute_result"
    },
    {
     "data": {
      "image/png": "[encoded data removed]",
      "text/plain": [
       "<Figure size 640x480 with 1 Axes>"
      ]
     },
     "metadata": {},
     "output_type": "display_data"
    }
   ],
   "source": [
    "rmse = pd.DataFrame({'regressao_linear': valores_rsme_rl_sem_regiao, 'arvore_regressao': valores_rmse_arvore})\n",
    "\n",
    "sns.set_style(\"darkgrid\")\n",
    "sns.boxplot(data=rmse).set_title(\"Comparação de RMSE\")"
   ]
  },
  {
   "cell_type": "markdown",
   "id": "877af0ce",
   "metadata": {},
   "source": [
    "# Após cross validation seguiremos com o modelo campeão (regressão linear)"
   ]
  },
  {
   "cell_type": "code",
   "execution_count": 331,
   "id": "6511f65a",
   "metadata": {},
   "outputs": [
    {
     "data": {
      "text/plain": [
       "LinearRegression()"
      ]
     },
     "execution_count": 331,
     "metadata": {},
     "output_type": "execute_result"
    }
   ],
   "source": [
    "regressao_linear.fit(X_treino.drop(colunas_regiao, axis=1), y_treino)"
   ]
  },
  {
   "cell_type": "code",
   "execution_count": 332,
   "id": "32beb239",
   "metadata": {},
   "outputs": [
    {
     "data": {
      "text/plain": [
       "array([[1.18251723e+04, 1.21744207e+04, 2.13627215e+03, 2.36539033e+04,\n",
       "        7.95178837e+00]])"
      ]
     },
     "execution_count": 332,
     "metadata": {},
     "output_type": "execute_result"
    }
   ],
   "source": [
    "regressao_linear.coef_"
   ]
  },
  {
   "cell_type": "code",
   "execution_count": 333,
   "id": "457b0fae",
   "metadata": {},
   "outputs": [
    {
     "data": {
      "text/html": [
       "<div>\n",
       "<style scoped>\n",
       "    .dataframe tbody tr th:only-of-type {\n",
       "        vertical-align: middle;\n",
       "    }\n",
       "\n",
       "    .dataframe tbody tr th {\n",
       "        vertical-align: top;\n",
       "    }\n",
       "\n",
       "    .dataframe thead th {\n",
       "        text-align: right;\n",
       "    }\n",
       "</style>\n",
       "<table border=\"1\" class=\"dataframe\">\n",
       "  <thead>\n",
       "    <tr style=\"text-align: right;\">\n",
       "      <th></th>\n",
       "      <th>age</th>\n",
       "      <th>bmi</th>\n",
       "      <th>children</th>\n",
       "      <th>smoker</th>\n",
       "      <th>female</th>\n",
       "    </tr>\n",
       "  </thead>\n",
       "  <tbody>\n",
       "    <tr>\n",
       "      <th>0</th>\n",
       "      <td>11825.17</td>\n",
       "      <td>12174.42</td>\n",
       "      <td>2136.27</td>\n",
       "      <td>23653.90</td>\n",
       "      <td>7.95</td>\n",
       "    </tr>\n",
       "  </tbody>\n",
       "</table>\n",
       "</div>"
      ],
      "text/plain": [
       "       age      bmi  children   smoker  female\n",
       "0 11825.17 12174.42   2136.27 23653.90    7.95"
      ]
     },
     "execution_count": 333,
     "metadata": {},
     "output_type": "execute_result"
    }
   ],
   "source": [
    "df_coeficientes = pd.DataFrame(regressao_linear.coef_)\n",
    "df_coeficientes.columns=regressao_linear.feature_names_in_\n",
    "df_coeficientes"
   ]
  },
  {
   "cell_type": "code",
   "execution_count": 334,
   "id": "9283ca7e",
   "metadata": {},
   "outputs": [
    {
     "data": {
      "text/plain": [
       "age        0.00\n",
       "bmi        0.00\n",
       "children   0.07\n",
       "smoker     0.00\n",
       "female     0.21\n",
       "Name: P>|t|, dtype: float64"
      ]
     },
     "execution_count": 334,
     "metadata": {},
     "output_type": "execute_result"
    }
   ],
   "source": [
    "#Cálculo do p-valor dos coeficientes de cada regressão\n",
    "import statsmodels.api as sm\n",
    "\n",
    "rl_statsmodels = sm.OLS(y_treino,X_treino.drop(colunas_regiao, axis=1))\n",
    "resultado_fit = rl_statsmodels.fit()\n",
    "p_valores = resultado_fit.summary2().tables[1]['P>|t|']\n",
    "p_valores"
   ]
  },
  {
   "cell_type": "markdown",
   "id": "232c0fb4",
   "metadata": {},
   "source": [
    "Verifica-se que os coeficientes para sexo e crianças não são estatisticamente válidos. Ao passo que idade, índice de massa corporal e fumante, devem ser considerados para o valor do seguro."
   ]
  },
  {
   "cell_type": "markdown",
   "id": "5670948d",
   "metadata": {},
   "source": [
    "# Inferências na base de Teste\n",
    "\n",
    "Após a seleção do modelo campeão, são feitas inferências dos valores do plano de saúde na base de teste. Somente nesta etapa que a base de testes é utilizada. "
   ]
  },
  {
   "cell_type": "code",
   "execution_count": 335,
   "id": "18c21a02",
   "metadata": {},
   "outputs": [
    {
     "data": {
      "text/plain": [
       "array([[ 8554.81711589],\n",
       "       [ 6973.58746745],\n",
       "       [36798.60416104],\n",
       "       [ 9417.88282303],\n",
       "       [26871.68031081]])"
      ]
     },
     "execution_count": 335,
     "metadata": {},
     "output_type": "execute_result"
    }
   ],
   "source": [
    "#verificando estimadores scikit learn\n",
    "# estimador treina com fit e prediz com predict\n",
    "precos_preditos = regressao_linear.predict(X_teste.drop(colunas_regiao, axis=1))\n",
    "precos_preditos[:5]"
   ]
  },
  {
   "cell_type": "code",
   "execution_count": 336,
   "id": "90868a54",
   "metadata": {},
   "outputs": [
    {
     "data": {
      "text/plain": [
       "268"
      ]
     },
     "execution_count": 336,
     "metadata": {},
     "output_type": "execute_result"
    }
   ],
   "source": [
    "len(precos_preditos)"
   ]
  },
  {
   "cell_type": "code",
   "execution_count": 337,
   "id": "4e355fa5",
   "metadata": {},
   "outputs": [
    {
     "data": {
      "text/html": [
       "<div>\n",
       "<style scoped>\n",
       "    .dataframe tbody tr th:only-of-type {\n",
       "        vertical-align: middle;\n",
       "    }\n",
       "\n",
       "    .dataframe tbody tr th {\n",
       "        vertical-align: top;\n",
       "    }\n",
       "\n",
       "    .dataframe thead th {\n",
       "        text-align: right;\n",
       "    }\n",
       "</style>\n",
       "<table border=\"1\" class=\"dataframe\">\n",
       "  <thead>\n",
       "    <tr style=\"text-align: right;\">\n",
       "      <th></th>\n",
       "      <th>charges</th>\n",
       "    </tr>\n",
       "  </thead>\n",
       "  <tbody>\n",
       "    <tr>\n",
       "      <th>764</th>\n",
       "      <td>9095.07</td>\n",
       "    </tr>\n",
       "    <tr>\n",
       "      <th>887</th>\n",
       "      <td>5272.18</td>\n",
       "    </tr>\n",
       "    <tr>\n",
       "      <th>890</th>\n",
       "      <td>29330.98</td>\n",
       "    </tr>\n",
       "    <tr>\n",
       "      <th>1293</th>\n",
       "      <td>9301.89</td>\n",
       "    </tr>\n",
       "    <tr>\n",
       "      <th>259</th>\n",
       "      <td>33750.29</td>\n",
       "    </tr>\n",
       "  </tbody>\n",
       "</table>\n",
       "</div>"
      ],
      "text/plain": [
       "      charges\n",
       "764   9095.07\n",
       "887   5272.18\n",
       "890  29330.98\n",
       "1293  9301.89\n",
       "259  33750.29"
      ]
     },
     "execution_count": 337,
     "metadata": {},
     "output_type": "execute_result"
    }
   ],
   "source": [
    "y_teste.head()"
   ]
  },
  {
   "cell_type": "code",
   "execution_count": 338,
   "id": "cae22b61",
   "metadata": {},
   "outputs": [
    {
     "data": {
      "text/html": [
       "<div>\n",
       "<style scoped>\n",
       "    .dataframe tbody tr th:only-of-type {\n",
       "        vertical-align: middle;\n",
       "    }\n",
       "\n",
       "    .dataframe tbody tr th {\n",
       "        vertical-align: top;\n",
       "    }\n",
       "\n",
       "    .dataframe thead th {\n",
       "        text-align: right;\n",
       "    }\n",
       "</style>\n",
       "<table border=\"1\" class=\"dataframe\">\n",
       "  <thead>\n",
       "    <tr style=\"text-align: right;\">\n",
       "      <th></th>\n",
       "      <th>predicao</th>\n",
       "      <th>real</th>\n",
       "      <th>diferenca_abs</th>\n",
       "    </tr>\n",
       "  </thead>\n",
       "  <tbody>\n",
       "    <tr>\n",
       "      <th>0</th>\n",
       "      <td>8554.82</td>\n",
       "      <td>9095.07</td>\n",
       "      <td>540.25</td>\n",
       "    </tr>\n",
       "    <tr>\n",
       "      <th>1</th>\n",
       "      <td>6973.59</td>\n",
       "      <td>5272.18</td>\n",
       "      <td>1701.41</td>\n",
       "    </tr>\n",
       "    <tr>\n",
       "      <th>2</th>\n",
       "      <td>36798.60</td>\n",
       "      <td>29330.98</td>\n",
       "      <td>7467.62</td>\n",
       "    </tr>\n",
       "    <tr>\n",
       "      <th>3</th>\n",
       "      <td>9417.88</td>\n",
       "      <td>9301.89</td>\n",
       "      <td>115.99</td>\n",
       "    </tr>\n",
       "    <tr>\n",
       "      <th>4</th>\n",
       "      <td>26871.68</td>\n",
       "      <td>33750.29</td>\n",
       "      <td>6878.61</td>\n",
       "    </tr>\n",
       "    <tr>\n",
       "      <th>5</th>\n",
       "      <td>11097.38</td>\n",
       "      <td>4536.26</td>\n",
       "      <td>6561.12</td>\n",
       "    </tr>\n",
       "    <tr>\n",
       "      <th>6</th>\n",
       "      <td>145.28</td>\n",
       "      <td>2117.34</td>\n",
       "      <td>1972.06</td>\n",
       "    </tr>\n",
       "    <tr>\n",
       "      <th>7</th>\n",
       "      <td>16746.17</td>\n",
       "      <td>14210.54</td>\n",
       "      <td>2535.63</td>\n",
       "    </tr>\n",
       "    <tr>\n",
       "      <th>8</th>\n",
       "      <td>747.53</td>\n",
       "      <td>3732.63</td>\n",
       "      <td>2985.09</td>\n",
       "    </tr>\n",
       "    <tr>\n",
       "      <th>9</th>\n",
       "      <td>11153.68</td>\n",
       "      <td>10264.44</td>\n",
       "      <td>889.23</td>\n",
       "    </tr>\n",
       "    <tr>\n",
       "      <th>10</th>\n",
       "      <td>28518.15</td>\n",
       "      <td>18259.22</td>\n",
       "      <td>10258.93</td>\n",
       "    </tr>\n",
       "    <tr>\n",
       "      <th>11</th>\n",
       "      <td>9292.18</td>\n",
       "      <td>7256.72</td>\n",
       "      <td>2035.46</td>\n",
       "    </tr>\n",
       "    <tr>\n",
       "      <th>12</th>\n",
       "      <td>5460.52</td>\n",
       "      <td>3947.41</td>\n",
       "      <td>1513.11</td>\n",
       "    </tr>\n",
       "    <tr>\n",
       "      <th>13</th>\n",
       "      <td>38510.48</td>\n",
       "      <td>46151.12</td>\n",
       "      <td>7640.64</td>\n",
       "    </tr>\n",
       "    <tr>\n",
       "      <th>14</th>\n",
       "      <td>40359.31</td>\n",
       "      <td>48673.56</td>\n",
       "      <td>8314.25</td>\n",
       "    </tr>\n",
       "    <tr>\n",
       "      <th>15</th>\n",
       "      <td>37223.41</td>\n",
       "      <td>44202.65</td>\n",
       "      <td>6979.25</td>\n",
       "    </tr>\n",
       "    <tr>\n",
       "      <th>16</th>\n",
       "      <td>15316.57</td>\n",
       "      <td>9800.89</td>\n",
       "      <td>5515.68</td>\n",
       "    </tr>\n",
       "    <tr>\n",
       "      <th>17</th>\n",
       "      <td>36047.50</td>\n",
       "      <td>42969.85</td>\n",
       "      <td>6922.35</td>\n",
       "    </tr>\n",
       "    <tr>\n",
       "      <th>18</th>\n",
       "      <td>9326.29</td>\n",
       "      <td>8233.10</td>\n",
       "      <td>1093.19</td>\n",
       "    </tr>\n",
       "    <tr>\n",
       "      <th>19</th>\n",
       "      <td>31400.16</td>\n",
       "      <td>21774.32</td>\n",
       "      <td>9625.83</td>\n",
       "    </tr>\n",
       "  </tbody>\n",
       "</table>\n",
       "</div>"
      ],
      "text/plain": [
       "    predicao     real  diferenca_abs\n",
       "0    8554.82  9095.07         540.25\n",
       "1    6973.59  5272.18        1701.41\n",
       "2   36798.60 29330.98        7467.62\n",
       "3    9417.88  9301.89         115.99\n",
       "4   26871.68 33750.29        6878.61\n",
       "5   11097.38  4536.26        6561.12\n",
       "6     145.28  2117.34        1972.06\n",
       "7   16746.17 14210.54        2535.63\n",
       "8     747.53  3732.63        2985.09\n",
       "9   11153.68 10264.44         889.23\n",
       "10  28518.15 18259.22       10258.93\n",
       "11   9292.18  7256.72        2035.46\n",
       "12   5460.52  3947.41        1513.11\n",
       "13  38510.48 46151.12        7640.64\n",
       "14  40359.31 48673.56        8314.25\n",
       "15  37223.41 44202.65        6979.25\n",
       "16  15316.57  9800.89        5515.68\n",
       "17  36047.50 42969.85        6922.35\n",
       "18   9326.29  8233.10        1093.19\n",
       "19  31400.16 21774.32        9625.83"
      ]
     },
     "execution_count": 338,
     "metadata": {},
     "output_type": "execute_result"
    }
   ],
   "source": [
    "predicoes_vs_real = pd.DataFrame({'predicao':precos_preditos.flatten(), 'real':y_teste.values.flatten()})\n",
    "predicoes_vs_real['diferenca_abs']= abs(predicoes_vs_real['predicao'] - predicoes_vs_real['real'])\n",
    "predicoes_vs_real.head(20)"
   ]
  },
  {
   "cell_type": "code",
   "execution_count": 339,
   "id": "bf2d3245",
   "metadata": {},
   "outputs": [
    {
     "data": {
      "text/plain": [
       "0.7811302113434095"
      ]
     },
     "execution_count": 339,
     "metadata": {},
     "output_type": "execute_result"
    }
   ],
   "source": [
    "# Teste do r quadrado para comparar com a utilização da média\n",
    "from sklearn.metrics import r2_score\n",
    "\n",
    "r2_score(y_true=y_teste, y_pred=precos_preditos)"
   ]
  },
  {
   "cell_type": "markdown",
   "id": "e48ffe2c",
   "metadata": {},
   "source": [
    "Mesmo com poucas variáveis (features) o modelo explica de forma aceitável a variavél target."
   ]
  },
  {
   "cell_type": "markdown",
   "id": "2ff50c57",
   "metadata": {},
   "source": [
    "# Teste de predição passando inputs:"
   ]
  },
  {
   "cell_type": "code",
   "execution_count": 340,
   "id": "14b65f88",
   "metadata": {},
   "outputs": [
    {
     "data": {
      "text/plain": [
       "Index(['age', 'bmi', 'children', 'smoker', 'female'], dtype='object')"
      ]
     },
     "execution_count": 340,
     "metadata": {},
     "output_type": "execute_result"
    }
   ],
   "source": [
    "X_teste.drop(colunas_regiao, axis=1).columns"
   ]
  },
  {
   "cell_type": "code",
   "execution_count": 341,
   "id": "99ec87fa",
   "metadata": {},
   "outputs": [
    {
     "name": "stdout",
     "output_type": "stream",
     "text": [
      "20\n"
     ]
    }
   ],
   "source": [
    "idade = input()"
   ]
  },
  {
   "cell_type": "code",
   "execution_count": 342,
   "id": "dc351908",
   "metadata": {},
   "outputs": [
    {
     "name": "stdout",
     "output_type": "stream",
     "text": [
      "35\n"
     ]
    }
   ],
   "source": [
    "indice_massa_corporal = input()"
   ]
  },
  {
   "cell_type": "code",
   "execution_count": 343,
   "id": "e73900b9",
   "metadata": {},
   "outputs": [
    {
     "name": "stdout",
     "output_type": "stream",
     "text": [
      "1\n"
     ]
    }
   ],
   "source": [
    "criancas = input()"
   ]
  },
  {
   "cell_type": "code",
   "execution_count": 350,
   "id": "27e8a31e",
   "metadata": {},
   "outputs": [
    {
     "name": "stdout",
     "output_type": "stream",
     "text": [
      "1 para fumante, 0 para não fumante: 0\n"
     ]
    }
   ],
   "source": [
    "fumante = input(\"1 para fumante, 0 para não fumante: \")"
   ]
  },
  {
   "cell_type": "code",
   "execution_count": 345,
   "id": "511f3269",
   "metadata": {},
   "outputs": [
    {
     "name": "stdout",
     "output_type": "stream",
     "text": [
      "1 para mulher, 0 para homem: 0\n"
     ]
    }
   ],
   "source": [
    "sexo = input(\"1 para mulher, 0 para homem: \")"
   ]
  },
  {
   "cell_type": "code",
   "execution_count": 351,
   "id": "d6381fa7",
   "metadata": {},
   "outputs": [
    {
     "data": {
      "text/plain": [
       "('20', '35', '1', '0', '0')"
      ]
     },
     "execution_count": 351,
     "metadata": {},
     "output_type": "execute_result"
    }
   ],
   "source": [
    "idade, indice_massa_corporal, criancas, fumante, sexo"
   ]
  },
  {
   "cell_type": "code",
   "execution_count": 352,
   "id": "4d90abf6",
   "metadata": {},
   "outputs": [
    {
     "name": "stderr",
     "output_type": "stream",
     "text": [
      "G:\\Anaconda3\\lib\\site-packages\\sklearn\\base.py:450: UserWarning: X does not have valid feature names, but MinMaxScaler was fitted with feature names\n",
      "  warnings.warn(\n"
     ]
    },
    {
     "data": {
      "text/plain": [
       "array([[0.04347826, 0.51224105, 0.2       , 0.        , 0.        ,\n",
       "        1.        , 1.        , 1.        ]])"
      ]
     },
     "execution_count": 352,
     "metadata": {},
     "output_type": "execute_result"
    }
   ],
   "source": [
    "# Completamos com 1,1,1 porque o X_treino original tinha colunas de região\n",
    "features = [[idade, indice_massa_corporal, criancas, fumante, sexo, 1, 1, 1]]\n",
    "\n",
    "# O scaler é lááááá do treino (nada de fitar de novo)\n",
    "features = scaler.transform(features)\n",
    "features"
   ]
  },
  {
   "cell_type": "code",
   "execution_count": 353,
   "id": "83020561",
   "metadata": {},
   "outputs": [
    {
     "data": {
      "text/plain": [
       "array([[0.04347826, 0.51224105, 0.2       , 0.        , 0.        ]])"
      ]
     },
     "execution_count": 353,
     "metadata": {},
     "output_type": "execute_result"
    }
   ],
   "source": [
    "#pegando as 5 features analisadas\n",
    "features = features[:,:-3]\n",
    "features"
   ]
  },
  {
   "cell_type": "code",
   "execution_count": 354,
   "id": "a2339706",
   "metadata": {},
   "outputs": [
    {
     "name": "stderr",
     "output_type": "stream",
     "text": [
      "G:\\Anaconda3\\lib\\site-packages\\sklearn\\base.py:450: UserWarning: X does not have valid feature names, but LinearRegression was fitted with feature names\n",
      "  warnings.warn(\n"
     ]
    },
    {
     "data": {
      "text/plain": [
       "array([[4910.90361055]])"
      ]
     },
     "execution_count": 354,
     "metadata": {},
     "output_type": "execute_result"
    }
   ],
   "source": [
    "#Resultado da predição\n",
    "regressao_linear.predict(features)"
   ]
  },
  {
   "cell_type": "code",
   "execution_count": null,
   "id": "a3ccccb6",
   "metadata": {},
   "outputs": [],
   "source": []
  },
  {
   "cell_type": "code",
   "execution_count": null,
   "id": "47b37d45",
   "metadata": {},
   "outputs": [],
   "source": []
  },
  {
   "cell_type": "code",
   "execution_count": null,
   "id": "fe9d7177",
   "metadata": {},
   "outputs": [],
   "source": []
  }
 ],
 "metadata": {
  "kernelspec": {
   "display_name": "Python 3 (ipykernel)",
   "language": "python",
   "name": "python3"
  },
  "language_info": {
   "codemirror_mode": {
    "name": "ipython",
    "version": 3
   },
   "file_extension": ".py",
   "mimetype": "text/x-python",
   "name": "python",
   "nbconvert_exporter": "python",
   "pygments_lexer": "ipython3",
   "version": "3.9.7"
  },
  "varInspector": {
   "cols": {
    "lenName": 16,
    "lenType": 16,
    "lenVar": 40
   },
   "kernels_config": {
    "python": {
     "delete_cmd_postfix": "",
     "delete_cmd_prefix": "del ",
     "library": "var_list.py",
     "varRefreshCmd": "print(var_dic_list())"
    },
    "r": {
     "delete_cmd_postfix": ") ",
     "delete_cmd_prefix": "rm(",
     "library": "var_list.r",
     "varRefreshCmd": "cat(var_dic_list()) "
    }
   },
   "types_to_exclude": [
    "module",
    "function",
    "builtin_function_or_method",
    "instance",
    "_Feature"
   ],
   "window_display": false
  }
 },
 "nbformat": 4,
 "nbformat_minor": 5
}
